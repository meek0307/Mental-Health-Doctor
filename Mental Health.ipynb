{
 "cells": [
  {
   "cell_type": "markdown",
   "id": "4f2ebba3",
   "metadata": {},
   "source": [
    "## Problem Statement :\n",
    "\n"
   ]
  },
  {
   "cell_type": "raw",
   "id": "a4f13635",
   "metadata": {},
   "source": [
    "This dataset is from a 2014 survey that measures attitudes towards mental health and frequency of mental health disorders in the tech workplace. \n",
    "\n",
    "We'll perform EDA and then build a baseline model using logistic regression in order to predict whether a person will seek treatment or not??"
   ]
  },
  {
   "cell_type": "markdown",
   "id": "d163561d",
   "metadata": {},
   "source": [
    "### Importing necessary libraries and Data loading"
   ]
  },
  {
   "cell_type": "code",
   "execution_count": 30,
   "id": "541012bb",
   "metadata": {},
   "outputs": [],
   "source": [
    "import numpy as np\n",
    "import pandas as pd\n",
    "import seaborn as sns\n",
    "import plotly.express as px\n",
    "import matplotlib.pyplot as plt\n",
    "\n",
    "from sklearn.preprocessing import StandardScaler\n",
    "from sklearn.model_selection import train_test_split\n",
    "from sklearn.preprocessing import LabelEncoder\n",
    "\n",
    "\n",
    "# Splitting Data\n",
    "from sklearn.model_selection import train_test_split, StratifiedKFold, cross_val_score\n",
    "\n",
    "# PreProcessing\n",
    "from sklearn.preprocessing import OneHotEncoder\n",
    "from sklearn.compose import ColumnTransformer\n",
    "from sklearn.pipeline import Pipeline\n",
    "from sklearn.experimental import enable_iterative_imputer\n",
    "\n",
    "from sklearn.preprocessing import MinMaxScaler\n",
    "from sklearn.impute import SimpleImputer,IterativeImputer\n",
    "\n",
    "# models\n",
    "from sklearn.linear_model import LogisticRegression\n",
    "from sklearn.ensemble import RandomForestClassifier\n",
    "from sklearn.metrics import accuracy_score, recall_score, plot_roc_curve\n",
    "from sklearn.metrics import accuracy_score, recall_score, plot_roc_curve, confusion_matrix, classification_report, precision_recall_curve, auc\n",
    "from sklearn import metrics\n",
    "from transformers import pipeline\n",
    "\n",
    "import tensorflow as tf"
   ]
  },
  {
   "cell_type": "code",
   "execution_count": 31,
   "id": "cd6b3e2c",
   "metadata": {},
   "outputs": [],
   "source": [
    "data = pd.read_csv('survey.csv')"
   ]
  },
  {
   "cell_type": "code",
   "execution_count": 32,
   "id": "817339ce",
   "metadata": {},
   "outputs": [
    {
     "data": {
      "text/plain": [
       "(1259, 27)"
      ]
     },
     "execution_count": 32,
     "metadata": {},
     "output_type": "execute_result"
    }
   ],
   "source": [
    "data.shape"
   ]
  },
  {
   "cell_type": "code",
   "execution_count": 33,
   "id": "eebc062b",
   "metadata": {},
   "outputs": [
    {
     "data": {
      "text/html": [
       "<style type=\"text/css\">\n",
       "#T_a8d86_row0_col0, #T_a8d86_row0_col1, #T_a8d86_row0_col2, #T_a8d86_row0_col3, #T_a8d86_row0_col4, #T_a8d86_row0_col5, #T_a8d86_row0_col6, #T_a8d86_row0_col7, #T_a8d86_row0_col8, #T_a8d86_row0_col9, #T_a8d86_row0_col10, #T_a8d86_row0_col11, #T_a8d86_row0_col12, #T_a8d86_row0_col13, #T_a8d86_row0_col14, #T_a8d86_row0_col15, #T_a8d86_row0_col16, #T_a8d86_row0_col17, #T_a8d86_row0_col18, #T_a8d86_row0_col19, #T_a8d86_row0_col20, #T_a8d86_row0_col21, #T_a8d86_row0_col22, #T_a8d86_row0_col23, #T_a8d86_row0_col24, #T_a8d86_row0_col25, #T_a8d86_row0_col26, #T_a8d86_row1_col0, #T_a8d86_row1_col1, #T_a8d86_row1_col2, #T_a8d86_row1_col3, #T_a8d86_row1_col4, #T_a8d86_row1_col5, #T_a8d86_row1_col6, #T_a8d86_row1_col7, #T_a8d86_row1_col8, #T_a8d86_row1_col9, #T_a8d86_row1_col10, #T_a8d86_row1_col11, #T_a8d86_row1_col12, #T_a8d86_row1_col13, #T_a8d86_row1_col14, #T_a8d86_row1_col15, #T_a8d86_row1_col16, #T_a8d86_row1_col17, #T_a8d86_row1_col18, #T_a8d86_row1_col19, #T_a8d86_row1_col20, #T_a8d86_row1_col21, #T_a8d86_row1_col22, #T_a8d86_row1_col23, #T_a8d86_row1_col24, #T_a8d86_row1_col25, #T_a8d86_row1_col26, #T_a8d86_row2_col0, #T_a8d86_row2_col1, #T_a8d86_row2_col2, #T_a8d86_row2_col3, #T_a8d86_row2_col4, #T_a8d86_row2_col5, #T_a8d86_row2_col6, #T_a8d86_row2_col7, #T_a8d86_row2_col8, #T_a8d86_row2_col9, #T_a8d86_row2_col10, #T_a8d86_row2_col11, #T_a8d86_row2_col12, #T_a8d86_row2_col13, #T_a8d86_row2_col14, #T_a8d86_row2_col15, #T_a8d86_row2_col16, #T_a8d86_row2_col17, #T_a8d86_row2_col18, #T_a8d86_row2_col19, #T_a8d86_row2_col20, #T_a8d86_row2_col21, #T_a8d86_row2_col22, #T_a8d86_row2_col23, #T_a8d86_row2_col24, #T_a8d86_row2_col25, #T_a8d86_row2_col26, #T_a8d86_row3_col0, #T_a8d86_row3_col1, #T_a8d86_row3_col2, #T_a8d86_row3_col3, #T_a8d86_row3_col4, #T_a8d86_row3_col5, #T_a8d86_row3_col6, #T_a8d86_row3_col7, #T_a8d86_row3_col8, #T_a8d86_row3_col9, #T_a8d86_row3_col10, #T_a8d86_row3_col11, #T_a8d86_row3_col12, #T_a8d86_row3_col13, #T_a8d86_row3_col14, #T_a8d86_row3_col15, #T_a8d86_row3_col16, #T_a8d86_row3_col17, #T_a8d86_row3_col18, #T_a8d86_row3_col19, #T_a8d86_row3_col20, #T_a8d86_row3_col21, #T_a8d86_row3_col22, #T_a8d86_row3_col23, #T_a8d86_row3_col24, #T_a8d86_row3_col25, #T_a8d86_row3_col26, #T_a8d86_row4_col0, #T_a8d86_row4_col1, #T_a8d86_row4_col2, #T_a8d86_row4_col3, #T_a8d86_row4_col4, #T_a8d86_row4_col5, #T_a8d86_row4_col6, #T_a8d86_row4_col7, #T_a8d86_row4_col8, #T_a8d86_row4_col9, #T_a8d86_row4_col10, #T_a8d86_row4_col11, #T_a8d86_row4_col12, #T_a8d86_row4_col13, #T_a8d86_row4_col14, #T_a8d86_row4_col15, #T_a8d86_row4_col16, #T_a8d86_row4_col17, #T_a8d86_row4_col18, #T_a8d86_row4_col19, #T_a8d86_row4_col20, #T_a8d86_row4_col21, #T_a8d86_row4_col22, #T_a8d86_row4_col23, #T_a8d86_row4_col24, #T_a8d86_row4_col25, #T_a8d86_row4_col26 {\n",
       "  background-color: #e6e6fa;\n",
       "}\n",
       "</style>\n",
       "<table id=\"T_a8d86\">\n",
       "  <thead>\n",
       "    <tr>\n",
       "      <th class=\"blank level0\" >&nbsp;</th>\n",
       "      <th id=\"T_a8d86_level0_col0\" class=\"col_heading level0 col0\" >Timestamp</th>\n",
       "      <th id=\"T_a8d86_level0_col1\" class=\"col_heading level0 col1\" >Age</th>\n",
       "      <th id=\"T_a8d86_level0_col2\" class=\"col_heading level0 col2\" >Gender</th>\n",
       "      <th id=\"T_a8d86_level0_col3\" class=\"col_heading level0 col3\" >Country</th>\n",
       "      <th id=\"T_a8d86_level0_col4\" class=\"col_heading level0 col4\" >state</th>\n",
       "      <th id=\"T_a8d86_level0_col5\" class=\"col_heading level0 col5\" >self_employed</th>\n",
       "      <th id=\"T_a8d86_level0_col6\" class=\"col_heading level0 col6\" >family_history</th>\n",
       "      <th id=\"T_a8d86_level0_col7\" class=\"col_heading level0 col7\" >treatment</th>\n",
       "      <th id=\"T_a8d86_level0_col8\" class=\"col_heading level0 col8\" >work_interfere</th>\n",
       "      <th id=\"T_a8d86_level0_col9\" class=\"col_heading level0 col9\" >no_employees</th>\n",
       "      <th id=\"T_a8d86_level0_col10\" class=\"col_heading level0 col10\" >remote_work</th>\n",
       "      <th id=\"T_a8d86_level0_col11\" class=\"col_heading level0 col11\" >tech_company</th>\n",
       "      <th id=\"T_a8d86_level0_col12\" class=\"col_heading level0 col12\" >benefits</th>\n",
       "      <th id=\"T_a8d86_level0_col13\" class=\"col_heading level0 col13\" >care_options</th>\n",
       "      <th id=\"T_a8d86_level0_col14\" class=\"col_heading level0 col14\" >wellness_program</th>\n",
       "      <th id=\"T_a8d86_level0_col15\" class=\"col_heading level0 col15\" >seek_help</th>\n",
       "      <th id=\"T_a8d86_level0_col16\" class=\"col_heading level0 col16\" >anonymity</th>\n",
       "      <th id=\"T_a8d86_level0_col17\" class=\"col_heading level0 col17\" >leave</th>\n",
       "      <th id=\"T_a8d86_level0_col18\" class=\"col_heading level0 col18\" >mental_health_consequence</th>\n",
       "      <th id=\"T_a8d86_level0_col19\" class=\"col_heading level0 col19\" >phys_health_consequence</th>\n",
       "      <th id=\"T_a8d86_level0_col20\" class=\"col_heading level0 col20\" >coworkers</th>\n",
       "      <th id=\"T_a8d86_level0_col21\" class=\"col_heading level0 col21\" >supervisor</th>\n",
       "      <th id=\"T_a8d86_level0_col22\" class=\"col_heading level0 col22\" >mental_health_interview</th>\n",
       "      <th id=\"T_a8d86_level0_col23\" class=\"col_heading level0 col23\" >phys_health_interview</th>\n",
       "      <th id=\"T_a8d86_level0_col24\" class=\"col_heading level0 col24\" >mental_vs_physical</th>\n",
       "      <th id=\"T_a8d86_level0_col25\" class=\"col_heading level0 col25\" >obs_consequence</th>\n",
       "      <th id=\"T_a8d86_level0_col26\" class=\"col_heading level0 col26\" >comments</th>\n",
       "    </tr>\n",
       "  </thead>\n",
       "  <tbody>\n",
       "    <tr>\n",
       "      <th id=\"T_a8d86_level0_row0\" class=\"row_heading level0 row0\" >0</th>\n",
       "      <td id=\"T_a8d86_row0_col0\" class=\"data row0 col0\" >2014-08-27 11:29:31</td>\n",
       "      <td id=\"T_a8d86_row0_col1\" class=\"data row0 col1\" >37</td>\n",
       "      <td id=\"T_a8d86_row0_col2\" class=\"data row0 col2\" >Female</td>\n",
       "      <td id=\"T_a8d86_row0_col3\" class=\"data row0 col3\" >United States</td>\n",
       "      <td id=\"T_a8d86_row0_col4\" class=\"data row0 col4\" >IL</td>\n",
       "      <td id=\"T_a8d86_row0_col5\" class=\"data row0 col5\" >nan</td>\n",
       "      <td id=\"T_a8d86_row0_col6\" class=\"data row0 col6\" >No</td>\n",
       "      <td id=\"T_a8d86_row0_col7\" class=\"data row0 col7\" >Yes</td>\n",
       "      <td id=\"T_a8d86_row0_col8\" class=\"data row0 col8\" >Often</td>\n",
       "      <td id=\"T_a8d86_row0_col9\" class=\"data row0 col9\" >6-25</td>\n",
       "      <td id=\"T_a8d86_row0_col10\" class=\"data row0 col10\" >No</td>\n",
       "      <td id=\"T_a8d86_row0_col11\" class=\"data row0 col11\" >Yes</td>\n",
       "      <td id=\"T_a8d86_row0_col12\" class=\"data row0 col12\" >Yes</td>\n",
       "      <td id=\"T_a8d86_row0_col13\" class=\"data row0 col13\" >Not sure</td>\n",
       "      <td id=\"T_a8d86_row0_col14\" class=\"data row0 col14\" >No</td>\n",
       "      <td id=\"T_a8d86_row0_col15\" class=\"data row0 col15\" >Yes</td>\n",
       "      <td id=\"T_a8d86_row0_col16\" class=\"data row0 col16\" >Yes</td>\n",
       "      <td id=\"T_a8d86_row0_col17\" class=\"data row0 col17\" >Somewhat easy</td>\n",
       "      <td id=\"T_a8d86_row0_col18\" class=\"data row0 col18\" >No</td>\n",
       "      <td id=\"T_a8d86_row0_col19\" class=\"data row0 col19\" >No</td>\n",
       "      <td id=\"T_a8d86_row0_col20\" class=\"data row0 col20\" >Some of them</td>\n",
       "      <td id=\"T_a8d86_row0_col21\" class=\"data row0 col21\" >Yes</td>\n",
       "      <td id=\"T_a8d86_row0_col22\" class=\"data row0 col22\" >No</td>\n",
       "      <td id=\"T_a8d86_row0_col23\" class=\"data row0 col23\" >Maybe</td>\n",
       "      <td id=\"T_a8d86_row0_col24\" class=\"data row0 col24\" >Yes</td>\n",
       "      <td id=\"T_a8d86_row0_col25\" class=\"data row0 col25\" >No</td>\n",
       "      <td id=\"T_a8d86_row0_col26\" class=\"data row0 col26\" >nan</td>\n",
       "    </tr>\n",
       "    <tr>\n",
       "      <th id=\"T_a8d86_level0_row1\" class=\"row_heading level0 row1\" >1</th>\n",
       "      <td id=\"T_a8d86_row1_col0\" class=\"data row1 col0\" >2014-08-27 11:29:37</td>\n",
       "      <td id=\"T_a8d86_row1_col1\" class=\"data row1 col1\" >44</td>\n",
       "      <td id=\"T_a8d86_row1_col2\" class=\"data row1 col2\" >M</td>\n",
       "      <td id=\"T_a8d86_row1_col3\" class=\"data row1 col3\" >United States</td>\n",
       "      <td id=\"T_a8d86_row1_col4\" class=\"data row1 col4\" >IN</td>\n",
       "      <td id=\"T_a8d86_row1_col5\" class=\"data row1 col5\" >nan</td>\n",
       "      <td id=\"T_a8d86_row1_col6\" class=\"data row1 col6\" >No</td>\n",
       "      <td id=\"T_a8d86_row1_col7\" class=\"data row1 col7\" >No</td>\n",
       "      <td id=\"T_a8d86_row1_col8\" class=\"data row1 col8\" >Rarely</td>\n",
       "      <td id=\"T_a8d86_row1_col9\" class=\"data row1 col9\" >More than 1000</td>\n",
       "      <td id=\"T_a8d86_row1_col10\" class=\"data row1 col10\" >No</td>\n",
       "      <td id=\"T_a8d86_row1_col11\" class=\"data row1 col11\" >No</td>\n",
       "      <td id=\"T_a8d86_row1_col12\" class=\"data row1 col12\" >Don't know</td>\n",
       "      <td id=\"T_a8d86_row1_col13\" class=\"data row1 col13\" >No</td>\n",
       "      <td id=\"T_a8d86_row1_col14\" class=\"data row1 col14\" >Don't know</td>\n",
       "      <td id=\"T_a8d86_row1_col15\" class=\"data row1 col15\" >Don't know</td>\n",
       "      <td id=\"T_a8d86_row1_col16\" class=\"data row1 col16\" >Don't know</td>\n",
       "      <td id=\"T_a8d86_row1_col17\" class=\"data row1 col17\" >Don't know</td>\n",
       "      <td id=\"T_a8d86_row1_col18\" class=\"data row1 col18\" >Maybe</td>\n",
       "      <td id=\"T_a8d86_row1_col19\" class=\"data row1 col19\" >No</td>\n",
       "      <td id=\"T_a8d86_row1_col20\" class=\"data row1 col20\" >No</td>\n",
       "      <td id=\"T_a8d86_row1_col21\" class=\"data row1 col21\" >No</td>\n",
       "      <td id=\"T_a8d86_row1_col22\" class=\"data row1 col22\" >No</td>\n",
       "      <td id=\"T_a8d86_row1_col23\" class=\"data row1 col23\" >No</td>\n",
       "      <td id=\"T_a8d86_row1_col24\" class=\"data row1 col24\" >Don't know</td>\n",
       "      <td id=\"T_a8d86_row1_col25\" class=\"data row1 col25\" >No</td>\n",
       "      <td id=\"T_a8d86_row1_col26\" class=\"data row1 col26\" >nan</td>\n",
       "    </tr>\n",
       "    <tr>\n",
       "      <th id=\"T_a8d86_level0_row2\" class=\"row_heading level0 row2\" >2</th>\n",
       "      <td id=\"T_a8d86_row2_col0\" class=\"data row2 col0\" >2014-08-27 11:29:44</td>\n",
       "      <td id=\"T_a8d86_row2_col1\" class=\"data row2 col1\" >32</td>\n",
       "      <td id=\"T_a8d86_row2_col2\" class=\"data row2 col2\" >Male</td>\n",
       "      <td id=\"T_a8d86_row2_col3\" class=\"data row2 col3\" >Canada</td>\n",
       "      <td id=\"T_a8d86_row2_col4\" class=\"data row2 col4\" >nan</td>\n",
       "      <td id=\"T_a8d86_row2_col5\" class=\"data row2 col5\" >nan</td>\n",
       "      <td id=\"T_a8d86_row2_col6\" class=\"data row2 col6\" >No</td>\n",
       "      <td id=\"T_a8d86_row2_col7\" class=\"data row2 col7\" >No</td>\n",
       "      <td id=\"T_a8d86_row2_col8\" class=\"data row2 col8\" >Rarely</td>\n",
       "      <td id=\"T_a8d86_row2_col9\" class=\"data row2 col9\" >6-25</td>\n",
       "      <td id=\"T_a8d86_row2_col10\" class=\"data row2 col10\" >No</td>\n",
       "      <td id=\"T_a8d86_row2_col11\" class=\"data row2 col11\" >Yes</td>\n",
       "      <td id=\"T_a8d86_row2_col12\" class=\"data row2 col12\" >No</td>\n",
       "      <td id=\"T_a8d86_row2_col13\" class=\"data row2 col13\" >No</td>\n",
       "      <td id=\"T_a8d86_row2_col14\" class=\"data row2 col14\" >No</td>\n",
       "      <td id=\"T_a8d86_row2_col15\" class=\"data row2 col15\" >No</td>\n",
       "      <td id=\"T_a8d86_row2_col16\" class=\"data row2 col16\" >Don't know</td>\n",
       "      <td id=\"T_a8d86_row2_col17\" class=\"data row2 col17\" >Somewhat difficult</td>\n",
       "      <td id=\"T_a8d86_row2_col18\" class=\"data row2 col18\" >No</td>\n",
       "      <td id=\"T_a8d86_row2_col19\" class=\"data row2 col19\" >No</td>\n",
       "      <td id=\"T_a8d86_row2_col20\" class=\"data row2 col20\" >Yes</td>\n",
       "      <td id=\"T_a8d86_row2_col21\" class=\"data row2 col21\" >Yes</td>\n",
       "      <td id=\"T_a8d86_row2_col22\" class=\"data row2 col22\" >Yes</td>\n",
       "      <td id=\"T_a8d86_row2_col23\" class=\"data row2 col23\" >Yes</td>\n",
       "      <td id=\"T_a8d86_row2_col24\" class=\"data row2 col24\" >No</td>\n",
       "      <td id=\"T_a8d86_row2_col25\" class=\"data row2 col25\" >No</td>\n",
       "      <td id=\"T_a8d86_row2_col26\" class=\"data row2 col26\" >nan</td>\n",
       "    </tr>\n",
       "    <tr>\n",
       "      <th id=\"T_a8d86_level0_row3\" class=\"row_heading level0 row3\" >3</th>\n",
       "      <td id=\"T_a8d86_row3_col0\" class=\"data row3 col0\" >2014-08-27 11:29:46</td>\n",
       "      <td id=\"T_a8d86_row3_col1\" class=\"data row3 col1\" >31</td>\n",
       "      <td id=\"T_a8d86_row3_col2\" class=\"data row3 col2\" >Male</td>\n",
       "      <td id=\"T_a8d86_row3_col3\" class=\"data row3 col3\" >United Kingdom</td>\n",
       "      <td id=\"T_a8d86_row3_col4\" class=\"data row3 col4\" >nan</td>\n",
       "      <td id=\"T_a8d86_row3_col5\" class=\"data row3 col5\" >nan</td>\n",
       "      <td id=\"T_a8d86_row3_col6\" class=\"data row3 col6\" >Yes</td>\n",
       "      <td id=\"T_a8d86_row3_col7\" class=\"data row3 col7\" >Yes</td>\n",
       "      <td id=\"T_a8d86_row3_col8\" class=\"data row3 col8\" >Often</td>\n",
       "      <td id=\"T_a8d86_row3_col9\" class=\"data row3 col9\" >26-100</td>\n",
       "      <td id=\"T_a8d86_row3_col10\" class=\"data row3 col10\" >No</td>\n",
       "      <td id=\"T_a8d86_row3_col11\" class=\"data row3 col11\" >Yes</td>\n",
       "      <td id=\"T_a8d86_row3_col12\" class=\"data row3 col12\" >No</td>\n",
       "      <td id=\"T_a8d86_row3_col13\" class=\"data row3 col13\" >Yes</td>\n",
       "      <td id=\"T_a8d86_row3_col14\" class=\"data row3 col14\" >No</td>\n",
       "      <td id=\"T_a8d86_row3_col15\" class=\"data row3 col15\" >No</td>\n",
       "      <td id=\"T_a8d86_row3_col16\" class=\"data row3 col16\" >No</td>\n",
       "      <td id=\"T_a8d86_row3_col17\" class=\"data row3 col17\" >Somewhat difficult</td>\n",
       "      <td id=\"T_a8d86_row3_col18\" class=\"data row3 col18\" >Yes</td>\n",
       "      <td id=\"T_a8d86_row3_col19\" class=\"data row3 col19\" >Yes</td>\n",
       "      <td id=\"T_a8d86_row3_col20\" class=\"data row3 col20\" >Some of them</td>\n",
       "      <td id=\"T_a8d86_row3_col21\" class=\"data row3 col21\" >No</td>\n",
       "      <td id=\"T_a8d86_row3_col22\" class=\"data row3 col22\" >Maybe</td>\n",
       "      <td id=\"T_a8d86_row3_col23\" class=\"data row3 col23\" >Maybe</td>\n",
       "      <td id=\"T_a8d86_row3_col24\" class=\"data row3 col24\" >No</td>\n",
       "      <td id=\"T_a8d86_row3_col25\" class=\"data row3 col25\" >Yes</td>\n",
       "      <td id=\"T_a8d86_row3_col26\" class=\"data row3 col26\" >nan</td>\n",
       "    </tr>\n",
       "    <tr>\n",
       "      <th id=\"T_a8d86_level0_row4\" class=\"row_heading level0 row4\" >4</th>\n",
       "      <td id=\"T_a8d86_row4_col0\" class=\"data row4 col0\" >2014-08-27 11:30:22</td>\n",
       "      <td id=\"T_a8d86_row4_col1\" class=\"data row4 col1\" >31</td>\n",
       "      <td id=\"T_a8d86_row4_col2\" class=\"data row4 col2\" >Male</td>\n",
       "      <td id=\"T_a8d86_row4_col3\" class=\"data row4 col3\" >United States</td>\n",
       "      <td id=\"T_a8d86_row4_col4\" class=\"data row4 col4\" >TX</td>\n",
       "      <td id=\"T_a8d86_row4_col5\" class=\"data row4 col5\" >nan</td>\n",
       "      <td id=\"T_a8d86_row4_col6\" class=\"data row4 col6\" >No</td>\n",
       "      <td id=\"T_a8d86_row4_col7\" class=\"data row4 col7\" >No</td>\n",
       "      <td id=\"T_a8d86_row4_col8\" class=\"data row4 col8\" >Never</td>\n",
       "      <td id=\"T_a8d86_row4_col9\" class=\"data row4 col9\" >100-500</td>\n",
       "      <td id=\"T_a8d86_row4_col10\" class=\"data row4 col10\" >Yes</td>\n",
       "      <td id=\"T_a8d86_row4_col11\" class=\"data row4 col11\" >Yes</td>\n",
       "      <td id=\"T_a8d86_row4_col12\" class=\"data row4 col12\" >Yes</td>\n",
       "      <td id=\"T_a8d86_row4_col13\" class=\"data row4 col13\" >No</td>\n",
       "      <td id=\"T_a8d86_row4_col14\" class=\"data row4 col14\" >Don't know</td>\n",
       "      <td id=\"T_a8d86_row4_col15\" class=\"data row4 col15\" >Don't know</td>\n",
       "      <td id=\"T_a8d86_row4_col16\" class=\"data row4 col16\" >Don't know</td>\n",
       "      <td id=\"T_a8d86_row4_col17\" class=\"data row4 col17\" >Don't know</td>\n",
       "      <td id=\"T_a8d86_row4_col18\" class=\"data row4 col18\" >No</td>\n",
       "      <td id=\"T_a8d86_row4_col19\" class=\"data row4 col19\" >No</td>\n",
       "      <td id=\"T_a8d86_row4_col20\" class=\"data row4 col20\" >Some of them</td>\n",
       "      <td id=\"T_a8d86_row4_col21\" class=\"data row4 col21\" >Yes</td>\n",
       "      <td id=\"T_a8d86_row4_col22\" class=\"data row4 col22\" >Yes</td>\n",
       "      <td id=\"T_a8d86_row4_col23\" class=\"data row4 col23\" >Yes</td>\n",
       "      <td id=\"T_a8d86_row4_col24\" class=\"data row4 col24\" >Don't know</td>\n",
       "      <td id=\"T_a8d86_row4_col25\" class=\"data row4 col25\" >No</td>\n",
       "      <td id=\"T_a8d86_row4_col26\" class=\"data row4 col26\" >nan</td>\n",
       "    </tr>\n",
       "  </tbody>\n",
       "</table>\n"
      ],
      "text/plain": [
       "<pandas.io.formats.style.Styler at 0x2a9692d0dc0>"
      ]
     },
     "execution_count": 33,
     "metadata": {},
     "output_type": "execute_result"
    }
   ],
   "source": [
    "data.head().style.applymap(lambda x : \"background-color: #e6e6fa \" )"
   ]
  },
  {
   "cell_type": "raw",
   "id": "04ad550f",
   "metadata": {},
   "source": [
    "Understanding the Columns:\n",
    "Timestamp\n",
    "Age\n",
    "Gender\n",
    "Country\n",
    "state: If you live in the United States, which state or territory do you live in?\n",
    "self_employed: Are you self-employed?\n",
    "family_history: Do you have a family history of mental illness?\n",
    "treatment: Have you sought treatment for a mental health condition?\n",
    "work_interfere: If you have a mental health condition, do you feel that it interferes with your work?\n",
    "no_employees: How many employees does your company or organization have?\n",
    "remote_work: Do you work remotely (outside of an office) at least 50% of the time?\n",
    "tech_company: Is your employer primarily a tech company/organization?\n",
    "benefits: Does your employer provide mental health benefits?\n",
    "care_options: Do you know the options for mental health care your employer provides?\n",
    "wellness_program: Has your employer ever discussed mental health as part of an employee wellness program?\n",
    "seek_help: Does your employer provide resources to learn more about mental health issues and how to seek help?\n",
    "anonymity: Is your anonymity protected if you choose to take advantage of mental health or substance abuse treatment resources?\n",
    "leave: How easy is it for you to take medical leave for a mental health condition?\n",
    "mentalhealthconsequence: Do you think that discussing a mental health issue with your employer would have negative consequences?\n",
    "physhealthconsequence: Do you think that discussing a physical health issue with your employer would have negative consequences?\n",
    "coworkers: Would you be willing to discuss a mental health issue with your coworkers?\n",
    "physhealthinterview: Would you bring up a physical health issue with a potential employer in an interview?\n",
    "mentalvsphysical: Do you feel that your employer takes mental health as seriously as physical health?\n",
    "obs_consequence: Have you heard of or observed negative consequences for coworkers with mental health conditions in your workplace?\n",
    "comments: Any additional notes or comments\n"
   ]
  },
  {
   "cell_type": "markdown",
   "id": "458b5ef7",
   "metadata": {},
   "source": [
    "######  missing value to be handled"
   ]
  },
  {
   "cell_type": "code",
   "execution_count": 34,
   "id": "53242eef",
   "metadata": {},
   "outputs": [
    {
     "data": {
      "text/plain": [
       "<AxesSubplot:>"
      ]
     },
     "execution_count": 34,
     "metadata": {},
     "output_type": "execute_result"
    },
    {
     "data": {
      "image/png": "[encoded data removed]",
      "text/plain": [
       "<Figure size 1000x500 with 2 Axes>"
      ]
     },
     "metadata": {
      "needs_background": "light"
     },
     "output_type": "display_data"
    }
   ],
   "source": [
    "plt.figure(figsize=(10,5) , dpi=100)\n",
    "sns.heatmap(data.isna(), cmap=\"flare\", alpha = 0.3)"
   ]
  },
  {
   "cell_type": "markdown",
   "id": "7a8839de",
   "metadata": {},
   "source": [
    "### Data Cleaning"
   ]
  },
  {
   "cell_type": "markdown",
   "id": "97a5d25b",
   "metadata": {},
   "source": [
    "#### Finding the null values in the dataset."
   ]
  },
  {
   "cell_type": "code",
   "execution_count": 35,
   "id": "cc6e4714",
   "metadata": {},
   "outputs": [
    {
     "data": {
      "text/plain": [
       "Timestamp                       0\n",
       "Age                             0\n",
       "Gender                          0\n",
       "Country                         0\n",
       "state                         515\n",
       "self_employed                  18\n",
       "family_history                  0\n",
       "treatment                       0\n",
       "work_interfere                264\n",
       "no_employees                    0\n",
       "remote_work                     0\n",
       "tech_company                    0\n",
       "benefits                        0\n",
       "care_options                    0\n",
       "wellness_program                0\n",
       "seek_help                       0\n",
       "anonymity                       0\n",
       "leave                           0\n",
       "mental_health_consequence       0\n",
       "phys_health_consequence         0\n",
       "coworkers                       0\n",
       "supervisor                      0\n",
       "mental_health_interview         0\n",
       "phys_health_interview           0\n",
       "mental_vs_physical              0\n",
       "obs_consequence                 0\n",
       "comments                     1095\n",
       "dtype: int64"
      ]
     },
     "execution_count": 35,
     "metadata": {},
     "output_type": "execute_result"
    }
   ],
   "source": [
    "data.isnull().sum()"
   ]
  },
  {
   "cell_type": "markdown",
   "id": "146b34ec",
   "metadata": {},
   "source": [
    "#### Dropping the columns.\n",
    "'State' has 50% null values and Timestamp is irrelavant column,hence we will drop those two columns."
   ]
  },
  {
   "cell_type": "code",
   "execution_count": 36,
   "id": "f066a89e",
   "metadata": {},
   "outputs": [],
   "source": [
    "#dealing with missing data\n",
    "\n",
    "data.drop(['state'], axis= 1, inplace=True)\n",
    "data.drop(['comments'], axis= 1, inplace=True)\n",
    "data.drop(['Timestamp'], axis= 1, inplace=True)\n"
   ]
  },
  {
   "cell_type": "code",
   "execution_count": 37,
   "id": "b2e9f3a0",
   "metadata": {},
   "outputs": [
    {
     "data": {
      "text/plain": [
       "24"
      ]
     },
     "execution_count": 37,
     "metadata": {},
     "output_type": "execute_result"
    }
   ],
   "source": [
    "len(data.columns)"
   ]
  },
  {
   "cell_type": "markdown",
   "id": "b0f7d931",
   "metadata": {},
   "source": [
    " #### Imputing the null values."
   ]
  },
  {
   "cell_type": "code",
   "execution_count": 38,
   "id": "9a6efe8e",
   "metadata": {},
   "outputs": [
    {
     "name": "stdout",
     "output_type": "stream",
     "text": [
      "No     1095\n",
      "Yes     146\n",
      "Name: self_employed, dtype: int64\n"
     ]
    }
   ],
   "source": [
    "print(data['self_employed'].value_counts())\n",
    "data['self_employed'].fillna('No',inplace=True)"
   ]
  },
  {
   "cell_type": "code",
   "execution_count": 39,
   "id": "679fcd4c",
   "metadata": {},
   "outputs": [
    {
     "name": "stdout",
     "output_type": "stream",
     "text": [
      "Sometimes    465\n",
      "Never        213\n",
      "Rarely       173\n",
      "Often        144\n",
      "Name: work_interfere, dtype: int64\n"
     ]
    }
   ],
   "source": [
    "print(data['work_interfere'].value_counts())\n",
    "data['work_interfere'].fillna('Sometimes',inplace=True)"
   ]
  },
  {
   "cell_type": "code",
   "execution_count": 40,
   "id": "ee4ff280",
   "metadata": {},
   "outputs": [
    {
     "data": {
      "text/plain": [
       "Age                          0\n",
       "Gender                       0\n",
       "Country                      0\n",
       "self_employed                0\n",
       "family_history               0\n",
       "treatment                    0\n",
       "work_interfere               0\n",
       "no_employees                 0\n",
       "remote_work                  0\n",
       "tech_company                 0\n",
       "benefits                     0\n",
       "care_options                 0\n",
       "wellness_program             0\n",
       "seek_help                    0\n",
       "anonymity                    0\n",
       "leave                        0\n",
       "mental_health_consequence    0\n",
       "phys_health_consequence      0\n",
       "coworkers                    0\n",
       "supervisor                   0\n",
       "mental_health_interview      0\n",
       "phys_health_interview        0\n",
       "mental_vs_physical           0\n",
       "obs_consequence              0\n",
       "dtype: int64"
      ]
     },
     "execution_count": 40,
     "metadata": {},
     "output_type": "execute_result"
    }
   ],
   "source": [
    "data.isnull().sum()"
   ]
  },
  {
   "cell_type": "code",
   "execution_count": 41,
   "id": "e3aa08f3",
   "metadata": {},
   "outputs": [
    {
     "data": {
      "text/plain": [
       "Index(['Age', 'Gender', 'Country', 'self_employed', 'family_history',\n",
       "       'treatment', 'work_interfere', 'no_employees', 'remote_work',\n",
       "       'tech_company', 'benefits', 'care_options', 'wellness_program',\n",
       "       'seek_help', 'anonymity', 'leave', 'mental_health_consequence',\n",
       "       'phys_health_consequence', 'coworkers', 'supervisor',\n",
       "       'mental_health_interview', 'phys_health_interview',\n",
       "       'mental_vs_physical', 'obs_consequence'],\n",
       "      dtype='object')"
      ]
     },
     "execution_count": 41,
     "metadata": {},
     "output_type": "execute_result"
    }
   ],
   "source": [
    "data.columns"
   ]
  },
  {
   "cell_type": "code",
   "execution_count": 42,
   "id": "b35af76d",
   "metadata": {},
   "outputs": [
    {
     "data": {
      "text/plain": [
       "6-25        290\n",
       "26-100      289\n",
       ">1000       282\n",
       "100-500     176\n",
       "1-5         162\n",
       "500-1000     60\n",
       "Name: no_employees, dtype: int64"
      ]
     },
     "execution_count": 42,
     "metadata": {},
     "output_type": "execute_result"
    }
   ],
   "source": [
    "# Transform 'More than 1000' to >1000\n",
    "data['no_employees'].replace(to_replace =['More than 1000'], value =['>1000'] , inplace = True)\n",
    "data['no_employees'].value_counts()"
   ]
  },
  {
   "cell_type": "code",
   "execution_count": 43,
   "id": "2f5b89cd",
   "metadata": {},
   "outputs": [
    {
     "data": {
      "text/plain": [
       "array([         37,          44,          32,          31,          33,\n",
       "                35,          39,          42,          23,          29,\n",
       "                36,          27,          46,          41,          34,\n",
       "                30,          40,          38,          50,          24,\n",
       "                18,          28,          26,          22,          19,\n",
       "                25,          45,          21,         -29,          43,\n",
       "                56,          60,          54,         329,          55,\n",
       "       99999999999,          48,          20,          57,          58,\n",
       "                47,          62,          51,          65,          49,\n",
       "             -1726,           5,          53,          61,           8,\n",
       "                11,          -1,          72], dtype=int64)"
      ]
     },
     "execution_count": 43,
     "metadata": {},
     "output_type": "execute_result"
    }
   ],
   "source": [
    "data['Age'].unique()"
   ]
  },
  {
   "cell_type": "code",
   "execution_count": 44,
   "id": "706ebd0b",
   "metadata": {},
   "outputs": [
    {
     "data": {
      "text/plain": [
       "array([37, 44, 32, 31, 33, 35, 39, 42, 23, 29, 36, 27, 46, 41, 34, 30, 40,\n",
       "       38, 50, 24, 18, 28, 26, 22, 19, 25, 45, 21, 43, 56, 60, 54, 55, 48,\n",
       "       20, 57, 58, 47, 62, 51, 65, 49, 53, 61], dtype=int64)"
      ]
     },
     "execution_count": 44,
     "metadata": {},
     "output_type": "execute_result"
    }
   ],
   "source": [
    "data.drop(data[data['Age'] < 16].index, inplace=True)\n",
    "data.drop(data[data['Age'] > 65].index, inplace=True)\n",
    "\n",
    "data['Age'].unique()"
   ]
  },
  {
   "cell_type": "code",
   "execution_count": 45,
   "id": "ee840003",
   "metadata": {},
   "outputs": [
    {
     "data": {
      "text/plain": [
       "array([18, 19, 20, 21, 22, 23, 24, 25, 26, 27, 28, 29, 30, 31, 32, 33, 34,\n",
       "       35, 36, 37, 38, 39, 40, 41, 42, 43, 44, 45, 46, 47, 48, 49, 50, 51,\n",
       "       53, 54, 55, 56, 57, 58, 60, 61, 62, 65], dtype=int64)"
      ]
     },
     "execution_count": 45,
     "metadata": {},
     "output_type": "execute_result"
    }
   ],
   "source": [
    "# sort Ages\n",
    "np.sort(data.Age.unique())"
   ]
  },
  {
   "cell_type": "code",
   "execution_count": 46,
   "id": "273cda62",
   "metadata": {},
   "outputs": [
    {
     "name": "stdout",
     "output_type": "stream",
     "text": [
      "['Female' 'M' 'Male' 'male' 'female' 'm' 'Male-ish' 'maile' 'Trans-female'\n",
      " 'Cis Female' 'F' 'something kinda male?' 'Cis Male' 'Woman' 'f' 'Mal'\n",
      " 'Male (CIS)' 'queer/she/they' 'non-binary' 'Femake' 'woman' 'Make' 'Nah'\n",
      " 'Enby' 'fluid' 'Genderqueer' 'Female ' 'Androgyne' 'Agender'\n",
      " 'cis-female/femme' 'Guy (-ish) ^_^' 'male leaning androgynous' 'Male '\n",
      " 'Man' 'Trans woman' 'msle' 'Neuter' 'Female (trans)' 'queer'\n",
      " 'Female (cis)' 'Mail' 'cis male' 'Malr' 'femail' 'Cis Man'\n",
      " 'ostensibly male, unsure what that really means']\n"
     ]
    }
   ],
   "source": [
    "#Clean 'Gender'\n",
    "gender = data['Gender'].unique()\n",
    "print(gender)"
   ]
  },
  {
   "cell_type": "code",
   "execution_count": 47,
   "id": "af466f7d",
   "metadata": {},
   "outputs": [
    {
     "name": "stdout",
     "output_type": "stream",
     "text": [
      "['female' 'male' 'trans']\n"
     ]
    }
   ],
   "source": [
    "#Made gender groups\n",
    "male_str = [\"male\", \"m\", \"male-ish\", \"maile\", \"mal\", \"male (cis)\", \"make\", \"male \", \"man\",\"msle\", \"mail\", \"malr\",\"cis man\", \"Cis Male\", \"cis male\"]\n",
    "trans_str = [\"trans-female\", \"something kinda male?\", \"queer/she/they\", \"non-binary\",\"nah\", \"all\", \"enby\", \"fluid\", \"genderqueer\", \"androgyne\", \"agender\", \"male leaning androgynous\", \"guy (-ish) ^_^\", \"trans woman\", \"neuter\", \"female (trans)\", \"queer\", \"ostensibly male, unsure what that really means\"]           \n",
    "female_str = [\"cis female\", \"f\", \"female\", \"woman\",  \"femake\", \"female \",\"cis-female/femme\", \"female (cis)\", \"femail\"]\n",
    "\n",
    "for (row, col) in data.iterrows():\n",
    "\n",
    "    if str.lower(col.Gender) in male_str:\n",
    "        data['Gender'].replace(to_replace=col.Gender, value='male', inplace=True)\n",
    "\n",
    "    if str.lower(col.Gender) in female_str:\n",
    "        data['Gender'].replace(to_replace=col.Gender, value='female', inplace=True)\n",
    "\n",
    "    if str.lower(col.Gender) in trans_str:\n",
    "        data['Gender'].replace(to_replace=col.Gender, value='trans', inplace=True)\n",
    "\n",
    "\n",
    "stk_list = ['A little about you', 'p']\n",
    "data = data[~data['Gender'].isin(stk_list)]\n",
    "\n",
    "print(data['Gender'].unique())"
   ]
  },
  {
   "cell_type": "markdown",
   "id": "53475dd3",
   "metadata": {},
   "source": [
    "### Exploratory Data Analysis."
   ]
  },
  {
   "cell_type": "markdown",
   "id": "eddbe4ad",
   "metadata": {},
   "source": [
    "###### Have you sought treatment for a mental health condition?\n"
   ]
  },
  {
   "cell_type": "code",
   "execution_count": 48,
   "id": "2621fbf1",
   "metadata": {},
   "outputs": [
    {
     "data": {
      "application/vnd.plotly.v1+json": {
       "config": {
        "plotlyServerURL": "https://plot.ly"
       },
       "data": [
        {
         "alignmentgroup": "True",
         "bingroup": "x",
         "hovertemplate": "treatment=%{x}<br>count=%{y}<extra></extra>",
         "legendgroup": "Yes",
         "marker": {
          "color": "#636efa",
          "pattern": {
           "shape": ""
          }
         },
         "name": "Yes",
         "offsetgroup": "Yes",
         "orientation": "v",
         "showlegend": true,
         "type": "histogram",
         "x": [
          "Yes",
          "Yes",
          "Yes",
          "Yes",
          "Yes",
          "Yes",
          "Yes",
          "Yes",
          "Yes",
          "Yes",
          "Yes",
          "Yes",
          "Yes",
          "Yes",
          "Yes",
          "Yes",
          "Yes",
          "Yes",
          "Yes",
          "Yes",
          "Yes",
          "Yes",
          "Yes",
          "Yes",
          "Yes",
          "Yes",
          "Yes",
          "Yes",
          "Yes",
          "Yes",
          "Yes",
          "Yes",
          "Yes",
          "Yes",
          "Yes",
          "Yes",
          "Yes",
          "Yes",
          "Yes",
          "Yes",
          "Yes",
          "Yes",
          "Yes",
          "Yes",
          "Yes",
          "Yes",
          "Yes",
          "Yes",
          "Yes",
          "Yes",
          "Yes",
          "Yes",
          "Yes",
          "Yes",
          "Yes",
          "Yes",
          "Yes",
          "Yes",
          "Yes",
          "Yes",
          "Yes",
          "Yes",
          "Yes",
          "Yes",
          "Yes",
          "Yes",
          "Yes",
          "Yes",
          "Yes",
          "Yes",
          "Yes",
          "Yes",
          "Yes",
          "Yes",
          "Yes",
          "Yes",
          "Yes",
          "Yes",
          "Yes",
          "Yes",
          "Yes",
          "Yes",
          "Yes",
          "Yes",
          "Yes",
          "Yes",
          "Yes",
          "Yes",
          "Yes",
          "Yes",
          "Yes",
          "Yes",
          "Yes",
          "Yes",
          "Yes",
          "Yes",
          "Yes",
          "Yes",
          "Yes",
          "Yes",
          "Yes",
          "Yes",
          "Yes",
          "Yes",
          "Yes",
          "Yes",
          "Yes",
          "Yes",
          "Yes",
          "Yes",
          "Yes",
          "Yes",
          "Yes",
          "Yes",
          "Yes",
          "Yes",
          "Yes",
          "Yes",
          "Yes",
          "Yes",
          "Yes",
          "Yes",
          "Yes",
          "Yes",
          "Yes",
          "Yes",
          "Yes",
          "Yes",
          "Yes",
          "Yes",
          "Yes",
          "Yes",
          "Yes",
          "Yes",
          "Yes",
          "Yes",
          "Yes",
          "Yes",
          "Yes",
          "Yes",
          "Yes",
          "Yes",
          "Yes",
          "Yes",
          "Yes",
          "Yes",
          "Yes",
          "Yes",
          "Yes",
          "Yes",
          "Yes",
          "Yes",
          "Yes",
          "Yes",
          "Yes",
          "Yes",
          "Yes",
          "Yes",
          "Yes",
          "Yes",
          "Yes",
          "Yes",
          "Yes",
          "Yes",
          "Yes",
          "Yes",
          "Yes",
          "Yes",
          "Yes",
          "Yes",
          "Yes",
          "Yes",
          "Yes",
          "Yes",
          "Yes",
          "Yes",
          "Yes",
          "Yes",
          "Yes",
          "Yes",
          "Yes",
          "Yes",
          "Yes",
          "Yes",
          "Yes",
          "Yes",
          "Yes",
          "Yes",
          "Yes",
          "Yes",
          "Yes",
          "Yes",
          "Yes",
          "Yes",
          "Yes",
          "Yes",
          "Yes",
          "Yes",
          "Yes",
          "Yes",
          "Yes",
          "Yes",
          "Yes",
          "Yes",
          "Yes",
          "Yes",
          "Yes",
          "Yes",
          "Yes",
          "Yes",
          "Yes",
          "Yes",
          "Yes",
          "Yes",
          "Yes",
          "Yes",
          "Yes",
          "Yes",
          "Yes",
          "Yes",
          "Yes",
          "Yes",
          "Yes",
          "Yes",
          "Yes",
          "Yes",
          "Yes",
          "Yes",
          "Yes",
          "Yes",
          "Yes",
          "Yes",
          "Yes",
          "Yes",
          "Yes",
          "Yes",
          "Yes",
          "Yes",
          "Yes",
          "Yes",
          "Yes",
          "Yes",
          "Yes",
          "Yes",
          "Yes",
          "Yes",
          "Yes",
          "Yes",
          "Yes",
          "Yes",
          "Yes",
          "Yes",
          "Yes",
          "Yes",
          "Yes",
          "Yes",
          "Yes",
          "Yes",
          "Yes",
          "Yes",
          "Yes",
          "Yes",
          "Yes",
          "Yes",
          "Yes",
          "Yes",
          "Yes",
          "Yes",
          "Yes",
          "Yes",
          "Yes",
          "Yes",
          "Yes",
          "Yes",
          "Yes",
          "Yes",
          "Yes",
          "Yes",
          "Yes",
          "Yes",
          "Yes",
          "Yes",
          "Yes",
          "Yes",
          "Yes",
          "Yes",
          "Yes",
          "Yes",
          "Yes",
          "Yes",
          "Yes",
          "Yes",
          "Yes",
          "Yes",
          "Yes",
          "Yes",
          "Yes",
          "Yes",
          "Yes",
          "Yes",
          "Yes",
          "Yes",
          "Yes",
          "Yes",
          "Yes",
          "Yes",
          "Yes",
          "Yes",
          "Yes",
          "Yes",
          "Yes",
          "Yes",
          "Yes",
          "Yes",
          "Yes",
          "Yes",
          "Yes",
          "Yes",
          "Yes",
          "Yes",
          "Yes",
          "Yes",
          "Yes",
          "Yes",
          "Yes",
          "Yes",
          "Yes",
          "Yes",
          "Yes",
          "Yes",
          "Yes",
          "Yes",
          "Yes",
          "Yes",
          "Yes",
          "Yes",
          "Yes",
          "Yes",
          "Yes",
          "Yes",
          "Yes",
          "Yes",
          "Yes",
          "Yes",
          "Yes",
          "Yes",
          "Yes",
          "Yes",
          "Yes",
          "Yes",
          "Yes",
          "Yes",
          "Yes",
          "Yes",
          "Yes",
          "Yes",
          "Yes",
          "Yes",
          "Yes",
          "Yes",
          "Yes",
          "Yes",
          "Yes",
          "Yes",
          "Yes",
          "Yes",
          "Yes",
          "Yes",
          "Yes",
          "Yes",
          "Yes",
          "Yes",
          "Yes",
          "Yes",
          "Yes",
          "Yes",
          "Yes",
          "Yes",
          "Yes",
          "Yes",
          "Yes",
          "Yes",
          "Yes",
          "Yes",
          "Yes",
          "Yes",
          "Yes",
          "Yes",
          "Yes",
          "Yes",
          "Yes",
          "Yes",
          "Yes",
          "Yes",
          "Yes",
          "Yes",
          "Yes",
          "Yes",
          "Yes",
          "Yes",
          "Yes",
          "Yes",
          "Yes",
          "Yes",
          "Yes",
          "Yes",
          "Yes",
          "Yes",
          "Yes",
          "Yes",
          "Yes",
          "Yes",
          "Yes",
          "Yes",
          "Yes",
          "Yes",
          "Yes",
          "Yes",
          "Yes",
          "Yes",
          "Yes",
          "Yes",
          "Yes",
          "Yes",
          "Yes",
          "Yes",
          "Yes",
          "Yes",
          "Yes",
          "Yes",
          "Yes",
          "Yes",
          "Yes",
          "Yes",
          "Yes",
          "Yes",
          "Yes",
          "Yes",
          "Yes",
          "Yes",
          "Yes",
          "Yes",
          "Yes",
          "Yes",
          "Yes",
          "Yes",
          "Yes",
          "Yes",
          "Yes",
          "Yes",
          "Yes",
          "Yes",
          "Yes",
          "Yes",
          "Yes",
          "Yes",
          "Yes",
          "Yes",
          "Yes",
          "Yes",
          "Yes",
          "Yes",
          "Yes",
          "Yes",
          "Yes",
          "Yes",
          "Yes",
          "Yes",
          "Yes",
          "Yes",
          "Yes",
          "Yes",
          "Yes",
          "Yes",
          "Yes",
          "Yes",
          "Yes",
          "Yes",
          "Yes",
          "Yes",
          "Yes",
          "Yes",
          "Yes",
          "Yes",
          "Yes",
          "Yes",
          "Yes",
          "Yes",
          "Yes",
          "Yes",
          "Yes",
          "Yes",
          "Yes",
          "Yes",
          "Yes",
          "Yes",
          "Yes",
          "Yes",
          "Yes",
          "Yes",
          "Yes",
          "Yes",
          "Yes",
          "Yes",
          "Yes",
          "Yes",
          "Yes",
          "Yes",
          "Yes",
          "Yes",
          "Yes",
          "Yes",
          "Yes",
          "Yes",
          "Yes",
          "Yes",
          "Yes",
          "Yes",
          "Yes",
          "Yes",
          "Yes",
          "Yes",
          "Yes",
          "Yes",
          "Yes",
          "Yes",
          "Yes",
          "Yes",
          "Yes",
          "Yes",
          "Yes",
          "Yes",
          "Yes",
          "Yes",
          "Yes",
          "Yes",
          "Yes",
          "Yes",
          "Yes",
          "Yes",
          "Yes",
          "Yes",
          "Yes",
          "Yes",
          "Yes",
          "Yes",
          "Yes",
          "Yes",
          "Yes",
          "Yes",
          "Yes",
          "Yes",
          "Yes",
          "Yes",
          "Yes",
          "Yes",
          "Yes",
          "Yes",
          "Yes",
          "Yes",
          "Yes",
          "Yes",
          "Yes",
          "Yes",
          "Yes",
          "Yes",
          "Yes",
          "Yes",
          "Yes",
          "Yes",
          "Yes",
          "Yes",
          "Yes",
          "Yes",
          "Yes",
          "Yes",
          "Yes",
          "Yes",
          "Yes",
          "Yes",
          "Yes",
          "Yes",
          "Yes",
          "Yes",
          "Yes",
          "Yes",
          "Yes",
          "Yes",
          "Yes",
          "Yes",
          "Yes",
          "Yes",
          "Yes",
          "Yes",
          "Yes",
          "Yes",
          "Yes",
          "Yes",
          "Yes",
          "Yes",
          "Yes",
          "Yes",
          "Yes",
          "Yes",
          "Yes",
          "Yes",
          "Yes",
          "Yes",
          "Yes",
          "Yes",
          "Yes",
          "Yes",
          "Yes",
          "Yes",
          "Yes",
          "Yes",
          "Yes",
          "Yes",
          "Yes",
          "Yes",
          "Yes",
          "Yes",
          "Yes",
          "Yes",
          "Yes",
          "Yes",
          "Yes",
          "Yes",
          "Yes",
          "Yes",
          "Yes"
         ],
         "xaxis": "x",
         "yaxis": "y"
        },
        {
         "alignmentgroup": "True",
         "bingroup": "x",
         "hovertemplate": "treatment=%{x}<br>count=%{y}<extra></extra>",
         "legendgroup": "No",
         "marker": {
          "color": "#EF553B",
          "pattern": {
           "shape": ""
          }
         },
         "name": "No",
         "offsetgroup": "No",
         "orientation": "v",
         "showlegend": true,
         "type": "histogram",
         "x": [
          "No",
          "No",
          "No",
          "No",
          "No",
          "No",
          "No",
          "No",
          "No",
          "No",
          "No",
          "No",
          "No",
          "No",
          "No",
          "No",
          "No",
          "No",
          "No",
          "No",
          "No",
          "No",
          "No",
          "No",
          "No",
          "No",
          "No",
          "No",
          "No",
          "No",
          "No",
          "No",
          "No",
          "No",
          "No",
          "No",
          "No",
          "No",
          "No",
          "No",
          "No",
          "No",
          "No",
          "No",
          "No",
          "No",
          "No",
          "No",
          "No",
          "No",
          "No",
          "No",
          "No",
          "No",
          "No",
          "No",
          "No",
          "No",
          "No",
          "No",
          "No",
          "No",
          "No",
          "No",
          "No",
          "No",
          "No",
          "No",
          "No",
          "No",
          "No",
          "No",
          "No",
          "No",
          "No",
          "No",
          "No",
          "No",
          "No",
          "No",
          "No",
          "No",
          "No",
          "No",
          "No",
          "No",
          "No",
          "No",
          "No",
          "No",
          "No",
          "No",
          "No",
          "No",
          "No",
          "No",
          "No",
          "No",
          "No",
          "No",
          "No",
          "No",
          "No",
          "No",
          "No",
          "No",
          "No",
          "No",
          "No",
          "No",
          "No",
          "No",
          "No",
          "No",
          "No",
          "No",
          "No",
          "No",
          "No",
          "No",
          "No",
          "No",
          "No",
          "No",
          "No",
          "No",
          "No",
          "No",
          "No",
          "No",
          "No",
          "No",
          "No",
          "No",
          "No",
          "No",
          "No",
          "No",
          "No",
          "No",
          "No",
          "No",
          "No",
          "No",
          "No",
          "No",
          "No",
          "No",
          "No",
          "No",
          "No",
          "No",
          "No",
          "No",
          "No",
          "No",
          "No",
          "No",
          "No",
          "No",
          "No",
          "No",
          "No",
          "No",
          "No",
          "No",
          "No",
          "No",
          "No",
          "No",
          "No",
          "No",
          "No",
          "No",
          "No",
          "No",
          "No",
          "No",
          "No",
          "No",
          "No",
          "No",
          "No",
          "No",
          "No",
          "No",
          "No",
          "No",
          "No",
          "No",
          "No",
          "No",
          "No",
          "No",
          "No",
          "No",
          "No",
          "No",
          "No",
          "No",
          "No",
          "No",
          "No",
          "No",
          "No",
          "No",
          "No",
          "No",
          "No",
          "No",
          "No",
          "No",
          "No",
          "No",
          "No",
          "No",
          "No",
          "No",
          "No",
          "No",
          "No",
          "No",
          "No",
          "No",
          "No",
          "No",
          "No",
          "No",
          "No",
          "No",
          "No",
          "No",
          "No",
          "No",
          "No",
          "No",
          "No",
          "No",
          "No",
          "No",
          "No",
          "No",
          "No",
          "No",
          "No",
          "No",
          "No",
          "No",
          "No",
          "No",
          "No",
          "No",
          "No",
          "No",
          "No",
          "No",
          "No",
          "No",
          "No",
          "No",
          "No",
          "No",
          "No",
          "No",
          "No",
          "No",
          "No",
          "No",
          "No",
          "No",
          "No",
          "No",
          "No",
          "No",
          "No",
          "No",
          "No",
          "No",
          "No",
          "No",
          "No",
          "No",
          "No",
          "No",
          "No",
          "No",
          "No",
          "No",
          "No",
          "No",
          "No",
          "No",
          "No",
          "No",
          "No",
          "No",
          "No",
          "No",
          "No",
          "No",
          "No",
          "No",
          "No",
          "No",
          "No",
          "No",
          "No",
          "No",
          "No",
          "No",
          "No",
          "No",
          "No",
          "No",
          "No",
          "No",
          "No",
          "No",
          "No",
          "No",
          "No",
          "No",
          "No",
          "No",
          "No",
          "No",
          "No",
          "No",
          "No",
          "No",
          "No",
          "No",
          "No",
          "No",
          "No",
          "No",
          "No",
          "No",
          "No",
          "No",
          "No",
          "No",
          "No",
          "No",
          "No",
          "No",
          "No",
          "No",
          "No",
          "No",
          "No",
          "No",
          "No",
          "No",
          "No",
          "No",
          "No",
          "No",
          "No",
          "No",
          "No",
          "No",
          "No",
          "No",
          "No",
          "No",
          "No",
          "No",
          "No",
          "No",
          "No",
          "No",
          "No",
          "No",
          "No",
          "No",
          "No",
          "No",
          "No",
          "No",
          "No",
          "No",
          "No",
          "No",
          "No",
          "No",
          "No",
          "No",
          "No",
          "No",
          "No",
          "No",
          "No",
          "No",
          "No",
          "No",
          "No",
          "No",
          "No",
          "No",
          "No",
          "No",
          "No",
          "No",
          "No",
          "No",
          "No",
          "No",
          "No",
          "No",
          "No",
          "No",
          "No",
          "No",
          "No",
          "No",
          "No",
          "No",
          "No",
          "No",
          "No",
          "No",
          "No",
          "No",
          "No",
          "No",
          "No",
          "No",
          "No",
          "No",
          "No",
          "No",
          "No",
          "No",
          "No",
          "No",
          "No",
          "No",
          "No",
          "No",
          "No",
          "No",
          "No",
          "No",
          "No",
          "No",
          "No",
          "No",
          "No",
          "No",
          "No",
          "No",
          "No",
          "No",
          "No",
          "No",
          "No",
          "No",
          "No",
          "No",
          "No",
          "No",
          "No",
          "No",
          "No",
          "No",
          "No",
          "No",
          "No",
          "No",
          "No",
          "No",
          "No",
          "No",
          "No",
          "No",
          "No",
          "No",
          "No",
          "No",
          "No",
          "No",
          "No",
          "No",
          "No",
          "No",
          "No",
          "No",
          "No",
          "No",
          "No",
          "No",
          "No",
          "No",
          "No",
          "No",
          "No",
          "No",
          "No",
          "No",
          "No",
          "No",
          "No",
          "No",
          "No",
          "No",
          "No",
          "No",
          "No",
          "No",
          "No",
          "No",
          "No",
          "No",
          "No",
          "No",
          "No",
          "No",
          "No",
          "No",
          "No",
          "No",
          "No",
          "No",
          "No",
          "No",
          "No",
          "No",
          "No",
          "No",
          "No",
          "No",
          "No",
          "No",
          "No",
          "No",
          "No",
          "No",
          "No",
          "No",
          "No",
          "No",
          "No",
          "No",
          "No",
          "No",
          "No",
          "No",
          "No",
          "No",
          "No",
          "No",
          "No",
          "No",
          "No",
          "No",
          "No",
          "No",
          "No",
          "No",
          "No",
          "No",
          "No",
          "No",
          "No",
          "No",
          "No",
          "No",
          "No",
          "No",
          "No",
          "No",
          "No",
          "No",
          "No",
          "No",
          "No",
          "No",
          "No",
          "No",
          "No",
          "No",
          "No",
          "No",
          "No",
          "No",
          "No",
          "No",
          "No",
          "No",
          "No",
          "No",
          "No",
          "No",
          "No",
          "No",
          "No",
          "No",
          "No",
          "No",
          "No",
          "No",
          "No",
          "No",
          "No",
          "No",
          "No",
          "No",
          "No",
          "No",
          "No",
          "No",
          "No",
          "No",
          "No",
          "No",
          "No",
          "No",
          "No"
         ],
         "xaxis": "x",
         "yaxis": "y"
        }
       ],
       "layout": {
        "barmode": "relative",
        "legend": {
         "title": {
          "text": "treatment"
         },
         "tracegroupgap": 0
        },
        "margin": {
         "t": 60
        },
        "template": {
         "data": {
          "bar": [
           {
            "error_x": {
             "color": "#2a3f5f"
            },
            "error_y": {
             "color": "#2a3f5f"
            },
            "marker": {
             "line": {
              "color": "#E5ECF6",
              "width": 0.5
             },
             "pattern": {
              "fillmode": "overlay",
              "size": 10,
              "solidity": 0.2
             }
            },
            "type": "bar"
           }
          ],
          "barpolar": [
           {
            "marker": {
             "line": {
              "color": "#E5ECF6",
              "width": 0.5
             },
             "pattern": {
              "fillmode": "overlay",
              "size": 10,
              "solidity": 0.2
             }
            },
            "type": "barpolar"
           }
          ],
          "carpet": [
           {
            "aaxis": {
             "endlinecolor": "#2a3f5f",
             "gridcolor": "white",
             "linecolor": "white",
             "minorgridcolor": "white",
             "startlinecolor": "#2a3f5f"
            },
            "baxis": {
             "endlinecolor": "#2a3f5f",
             "gridcolor": "white",
             "linecolor": "white",
             "minorgridcolor": "white",
             "startlinecolor": "#2a3f5f"
            },
            "type": "carpet"
           }
          ],
          "choropleth": [
           {
            "colorbar": {
             "outlinewidth": 0,
             "ticks": ""
            },
            "type": "choropleth"
           }
          ],
          "contour": [
           {
            "colorbar": {
             "outlinewidth": 0,
             "ticks": ""
            },
            "colorscale": [
             [
              0,
              "#0d0887"
             ],
             [
              0.1111111111111111,
              "#46039f"
             ],
             [
              0.2222222222222222,
              "#7201a8"
             ],
             [
              0.3333333333333333,
              "#9c179e"
             ],
             [
              0.4444444444444444,
              "#bd3786"
             ],
             [
              0.5555555555555556,
              "#d8576b"
             ],
             [
              0.6666666666666666,
              "#ed7953"
             ],
             [
              0.7777777777777778,
              "#fb9f3a"
             ],
             [
              0.8888888888888888,
              "#fdca26"
             ],
             [
              1,
              "#f0f921"
             ]
            ],
            "type": "contour"
           }
          ],
          "contourcarpet": [
           {
            "colorbar": {
             "outlinewidth": 0,
             "ticks": ""
            },
            "type": "contourcarpet"
           }
          ],
          "heatmap": [
           {
            "colorbar": {
             "outlinewidth": 0,
             "ticks": ""
            },
            "colorscale": [
             [
              0,
              "#0d0887"
             ],
             [
              0.1111111111111111,
              "#46039f"
             ],
             [
              0.2222222222222222,
              "#7201a8"
             ],
             [
              0.3333333333333333,
              "#9c179e"
             ],
             [
              0.4444444444444444,
              "#bd3786"
             ],
             [
              0.5555555555555556,
              "#d8576b"
             ],
             [
              0.6666666666666666,
              "#ed7953"
             ],
             [
              0.7777777777777778,
              "#fb9f3a"
             ],
             [
              0.8888888888888888,
              "#fdca26"
             ],
             [
              1,
              "#f0f921"
             ]
            ],
            "type": "heatmap"
           }
          ],
          "heatmapgl": [
           {
            "colorbar": {
             "outlinewidth": 0,
             "ticks": ""
            },
            "colorscale": [
             [
              0,
              "#0d0887"
             ],
             [
              0.1111111111111111,
              "#46039f"
             ],
             [
              0.2222222222222222,
              "#7201a8"
             ],
             [
              0.3333333333333333,
              "#9c179e"
             ],
             [
              0.4444444444444444,
              "#bd3786"
             ],
             [
              0.5555555555555556,
              "#d8576b"
             ],
             [
              0.6666666666666666,
              "#ed7953"
             ],
             [
              0.7777777777777778,
              "#fb9f3a"
             ],
             [
              0.8888888888888888,
              "#fdca26"
             ],
             [
              1,
              "#f0f921"
             ]
            ],
            "type": "heatmapgl"
           }
          ],
          "histogram": [
           {
            "marker": {
             "pattern": {
              "fillmode": "overlay",
              "size": 10,
              "solidity": 0.2
             }
            },
            "type": "histogram"
           }
          ],
          "histogram2d": [
           {
            "colorbar": {
             "outlinewidth": 0,
             "ticks": ""
            },
            "colorscale": [
             [
              0,
              "#0d0887"
             ],
             [
              0.1111111111111111,
              "#46039f"
             ],
             [
              0.2222222222222222,
              "#7201a8"
             ],
             [
              0.3333333333333333,
              "#9c179e"
             ],
             [
              0.4444444444444444,
              "#bd3786"
             ],
             [
              0.5555555555555556,
              "#d8576b"
             ],
             [
              0.6666666666666666,
              "#ed7953"
             ],
             [
              0.7777777777777778,
              "#fb9f3a"
             ],
             [
              0.8888888888888888,
              "#fdca26"
             ],
             [
              1,
              "#f0f921"
             ]
            ],
            "type": "histogram2d"
           }
          ],
          "histogram2dcontour": [
           {
            "colorbar": {
             "outlinewidth": 0,
             "ticks": ""
            },
            "colorscale": [
             [
              0,
              "#0d0887"
             ],
             [
              0.1111111111111111,
              "#46039f"
             ],
             [
              0.2222222222222222,
              "#7201a8"
             ],
             [
              0.3333333333333333,
              "#9c179e"
             ],
             [
              0.4444444444444444,
              "#bd3786"
             ],
             [
              0.5555555555555556,
              "#d8576b"
             ],
             [
              0.6666666666666666,
              "#ed7953"
             ],
             [
              0.7777777777777778,
              "#fb9f3a"
             ],
             [
              0.8888888888888888,
              "#fdca26"
             ],
             [
              1,
              "#f0f921"
             ]
            ],
            "type": "histogram2dcontour"
           }
          ],
          "mesh3d": [
           {
            "colorbar": {
             "outlinewidth": 0,
             "ticks": ""
            },
            "type": "mesh3d"
           }
          ],
          "parcoords": [
           {
            "line": {
             "colorbar": {
              "outlinewidth": 0,
              "ticks": ""
             }
            },
            "type": "parcoords"
           }
          ],
          "pie": [
           {
            "automargin": true,
            "type": "pie"
           }
          ],
          "scatter": [
           {
            "marker": {
             "colorbar": {
              "outlinewidth": 0,
              "ticks": ""
             }
            },
            "type": "scatter"
           }
          ],
          "scatter3d": [
           {
            "line": {
             "colorbar": {
              "outlinewidth": 0,
              "ticks": ""
             }
            },
            "marker": {
             "colorbar": {
              "outlinewidth": 0,
              "ticks": ""
             }
            },
            "type": "scatter3d"
           }
          ],
          "scattercarpet": [
           {
            "marker": {
             "colorbar": {
              "outlinewidth": 0,
              "ticks": ""
             }
            },
            "type": "scattercarpet"
           }
          ],
          "scattergeo": [
           {
            "marker": {
             "colorbar": {
              "outlinewidth": 0,
              "ticks": ""
             }
            },
            "type": "scattergeo"
           }
          ],
          "scattergl": [
           {
            "marker": {
             "colorbar": {
              "outlinewidth": 0,
              "ticks": ""
             }
            },
            "type": "scattergl"
           }
          ],
          "scattermapbox": [
           {
            "marker": {
             "colorbar": {
              "outlinewidth": 0,
              "ticks": ""
             }
            },
            "type": "scattermapbox"
           }
          ],
          "scatterpolar": [
           {
            "marker": {
             "colorbar": {
              "outlinewidth": 0,
              "ticks": ""
             }
            },
            "type": "scatterpolar"
           }
          ],
          "scatterpolargl": [
           {
            "marker": {
             "colorbar": {
              "outlinewidth": 0,
              "ticks": ""
             }
            },
            "type": "scatterpolargl"
           }
          ],
          "scatterternary": [
           {
            "marker": {
             "colorbar": {
              "outlinewidth": 0,
              "ticks": ""
             }
            },
            "type": "scatterternary"
           }
          ],
          "surface": [
           {
            "colorbar": {
             "outlinewidth": 0,
             "ticks": ""
            },
            "colorscale": [
             [
              0,
              "#0d0887"
             ],
             [
              0.1111111111111111,
              "#46039f"
             ],
             [
              0.2222222222222222,
              "#7201a8"
             ],
             [
              0.3333333333333333,
              "#9c179e"
             ],
             [
              0.4444444444444444,
              "#bd3786"
             ],
             [
              0.5555555555555556,
              "#d8576b"
             ],
             [
              0.6666666666666666,
              "#ed7953"
             ],
             [
              0.7777777777777778,
              "#fb9f3a"
             ],
             [
              0.8888888888888888,
              "#fdca26"
             ],
             [
              1,
              "#f0f921"
             ]
            ],
            "type": "surface"
           }
          ],
          "table": [
           {
            "cells": {
             "fill": {
              "color": "#EBF0F8"
             },
             "line": {
              "color": "white"
             }
            },
            "header": {
             "fill": {
              "color": "#C8D4E3"
             },
             "line": {
              "color": "white"
             }
            },
            "type": "table"
           }
          ]
         },
         "layout": {
          "annotationdefaults": {
           "arrowcolor": "#2a3f5f",
           "arrowhead": 0,
           "arrowwidth": 1
          },
          "autotypenumbers": "strict",
          "coloraxis": {
           "colorbar": {
            "outlinewidth": 0,
            "ticks": ""
           }
          },
          "colorscale": {
           "diverging": [
            [
             0,
             "#8e0152"
            ],
            [
             0.1,
             "#c51b7d"
            ],
            [
             0.2,
             "#de77ae"
            ],
            [
             0.3,
             "#f1b6da"
            ],
            [
             0.4,
             "#fde0ef"
            ],
            [
             0.5,
             "#f7f7f7"
            ],
            [
             0.6,
             "#e6f5d0"
            ],
            [
             0.7,
             "#b8e186"
            ],
            [
             0.8,
             "#7fbc41"
            ],
            [
             0.9,
             "#4d9221"
            ],
            [
             1,
             "#276419"
            ]
           ],
           "sequential": [
            [
             0,
             "#0d0887"
            ],
            [
             0.1111111111111111,
             "#46039f"
            ],
            [
             0.2222222222222222,
             "#7201a8"
            ],
            [
             0.3333333333333333,
             "#9c179e"
            ],
            [
             0.4444444444444444,
             "#bd3786"
            ],
            [
             0.5555555555555556,
             "#d8576b"
            ],
            [
             0.6666666666666666,
             "#ed7953"
            ],
            [
             0.7777777777777778,
             "#fb9f3a"
            ],
            [
             0.8888888888888888,
             "#fdca26"
            ],
            [
             1,
             "#f0f921"
            ]
           ],
           "sequentialminus": [
            [
             0,
             "#0d0887"
            ],
            [
             0.1111111111111111,
             "#46039f"
            ],
            [
             0.2222222222222222,
             "#7201a8"
            ],
            [
             0.3333333333333333,
             "#9c179e"
            ],
            [
             0.4444444444444444,
             "#bd3786"
            ],
            [
             0.5555555555555556,
             "#d8576b"
            ],
            [
             0.6666666666666666,
             "#ed7953"
            ],
            [
             0.7777777777777778,
             "#fb9f3a"
            ],
            [
             0.8888888888888888,
             "#fdca26"
            ],
            [
             1,
             "#f0f921"
            ]
           ]
          },
          "colorway": [
           "#636efa",
           "#EF553B",
           "#00cc96",
           "#ab63fa",
           "#FFA15A",
           "#19d3f3",
           "#FF6692",
           "#B6E880",
           "#FF97FF",
           "#FECB52"
          ],
          "font": {
           "color": "#2a3f5f"
          },
          "geo": {
           "bgcolor": "white",
           "lakecolor": "white",
           "landcolor": "#E5ECF6",
           "showlakes": true,
           "showland": true,
           "subunitcolor": "white"
          },
          "hoverlabel": {
           "align": "left"
          },
          "hovermode": "closest",
          "mapbox": {
           "style": "light"
          },
          "paper_bgcolor": "white",
          "plot_bgcolor": "#E5ECF6",
          "polar": {
           "angularaxis": {
            "gridcolor": "white",
            "linecolor": "white",
            "ticks": ""
           },
           "bgcolor": "#E5ECF6",
           "radialaxis": {
            "gridcolor": "white",
            "linecolor": "white",
            "ticks": ""
           }
          },
          "scene": {
           "xaxis": {
            "backgroundcolor": "#E5ECF6",
            "gridcolor": "white",
            "gridwidth": 2,
            "linecolor": "white",
            "showbackground": true,
            "ticks": "",
            "zerolinecolor": "white"
           },
           "yaxis": {
            "backgroundcolor": "#E5ECF6",
            "gridcolor": "white",
            "gridwidth": 2,
            "linecolor": "white",
            "showbackground": true,
            "ticks": "",
            "zerolinecolor": "white"
           },
           "zaxis": {
            "backgroundcolor": "#E5ECF6",
            "gridcolor": "white",
            "gridwidth": 2,
            "linecolor": "white",
            "showbackground": true,
            "ticks": "",
            "zerolinecolor": "white"
           }
          },
          "shapedefaults": {
           "line": {
            "color": "#2a3f5f"
           }
          },
          "ternary": {
           "aaxis": {
            "gridcolor": "white",
            "linecolor": "white",
            "ticks": ""
           },
           "baxis": {
            "gridcolor": "white",
            "linecolor": "white",
            "ticks": ""
           },
           "bgcolor": "#E5ECF6",
           "caxis": {
            "gridcolor": "white",
            "linecolor": "white",
            "ticks": ""
           }
          },
          "title": {
           "x": 0.05
          },
          "xaxis": {
           "automargin": true,
           "gridcolor": "white",
           "linecolor": "white",
           "ticks": "",
           "title": {
            "standoff": 15
           },
           "zerolinecolor": "white",
           "zerolinewidth": 2
          },
          "yaxis": {
           "automargin": true,
           "gridcolor": "white",
           "linecolor": "white",
           "ticks": "",
           "title": {
            "standoff": 15
           },
           "zerolinecolor": "white",
           "zerolinewidth": 2
          }
         }
        },
        "xaxis": {
         "anchor": "y",
         "categoryarray": [
          "Yes",
          "No"
         ],
         "categoryorder": "array",
         "domain": [
          0,
          1
         ],
         "title": {
          "text": "treatment"
         }
        },
        "yaxis": {
         "anchor": "x",
         "domain": [
          0,
          1
         ],
         "title": {
          "text": "count"
         }
        }
       }
      }
     },
     "metadata": {},
     "output_type": "display_data"
    },
    {
     "data": {
      "text/plain": [
       "<Figure size 576x576 with 0 Axes>"
      ]
     },
     "metadata": {},
     "output_type": "display_data"
    }
   ],
   "source": [
    "plt.figure(figsize=(8,8))\n",
    "px.histogram(data, x = 'treatment',color='treatment')\n"
   ]
  },
  {
   "cell_type": "raw",
   "id": "74cff9ec",
   "metadata": {},
   "source": [
    "General insight\n",
    "\n",
    "Nearly 50% of people are seeking help.This is a very large portion. Studies show that Mental illness is a major risk factor for suicide , So we must ensure that every person seeking help must be treated Insight for model building"
   ]
  },
  {
   "cell_type": "markdown",
   "id": "6f6280d5",
   "metadata": {},
   "source": [
    "###### Do you feel that your employer takes mental health as seriously as physical health?"
   ]
  },
  {
   "cell_type": "code",
   "execution_count": 49,
   "id": "36101947",
   "metadata": {},
   "outputs": [
    {
     "data": {
      "text/plain": [
       "<AxesSubplot:xlabel='mental_vs_physical', ylabel='count'>"
      ]
     },
     "execution_count": 49,
     "metadata": {},
     "output_type": "execute_result"
    },
    {
     "data": {
      "image/png": "[encoded data removed]",
      "text/plain": [
       "<Figure size 432x288 with 1 Axes>"
      ]
     },
     "metadata": {
      "needs_background": "light"
     },
     "output_type": "display_data"
    }
   ],
   "source": [
    "sns.countplot(data = data , x = 'mental_vs_physical' )"
   ]
  },
  {
   "cell_type": "markdown",
   "id": "716662f3",
   "metadata": {},
   "source": [
    "###### Compute the correlation matrix"
   ]
  },
  {
   "cell_type": "code",
   "execution_count": 50,
   "id": "b7b0802b",
   "metadata": {},
   "outputs": [
    {
     "data": {
      "text/plain": [
       "<AxesSubplot:>"
      ]
     },
     "execution_count": 50,
     "metadata": {},
     "output_type": "execute_result"
    },
    {
     "data": {
      "image/png": "[encoded data removed]",
      "text/plain": [
       "<Figure size 1600x1000 with 2 Axes>"
      ]
     },
     "metadata": {
      "needs_background": "light"
     },
     "output_type": "display_data"
    }
   ],
   "source": [
    "df = data.copy()\n",
    "cols = df.columns\n",
    "encoder = LabelEncoder()\n",
    "for col in cols:\n",
    "    encoder.fit(df[col])\n",
    "    df[col] = encoder.transform(df[col])\n",
    "\n",
    "plt.figure(figsize = (16, 10), dpi = 100)\n",
    "\n",
    "corr = df.corr()\n",
    "\n",
    "mask = np.zeros_like(corr, dtype=bool)\n",
    "mask[np.triu_indices_from(mask)] = True\n",
    "\n",
    "\n",
    "sns.heatmap(corr, mask = mask , cmap = 'Purples', annot = True , linewidths = 0.5 , fmt = \".2f\" , alpha = 0.6)"
   ]
  },
  {
   "cell_type": "markdown",
   "id": "c56b0cc7",
   "metadata": {},
   "source": [
    "### Preprocessing"
   ]
  },
  {
   "cell_type": "code",
   "execution_count": 51,
   "id": "0f7c7953",
   "metadata": {},
   "outputs": [
    {
     "data": {
      "text/plain": [
       "Index(['Age', 'Gender', 'Country', 'self_employed', 'family_history',\n",
       "       'treatment', 'work_interfere', 'no_employees', 'remote_work',\n",
       "       'tech_company', 'benefits', 'care_options', 'wellness_program',\n",
       "       'seek_help', 'anonymity', 'leave', 'mental_health_consequence',\n",
       "       'phys_health_consequence', 'coworkers', 'supervisor',\n",
       "       'mental_health_interview', 'phys_health_interview',\n",
       "       'mental_vs_physical', 'obs_consequence'],\n",
       "      dtype='object')"
      ]
     },
     "execution_count": 51,
     "metadata": {},
     "output_type": "execute_result"
    }
   ],
   "source": [
    "data.columns"
   ]
  },
  {
   "cell_type": "markdown",
   "id": "df43be28",
   "metadata": {},
   "source": [
    "###### Encoding categorical variables"
   ]
  },
  {
   "cell_type": "code",
   "execution_count": 52,
   "id": "fe6f0195",
   "metadata": {},
   "outputs": [
    {
     "name": "stdout",
     "output_type": "stream",
     "text": [
      "AGE :[37 44 32 31 33 35 39 42 23 29 36 27 46 41 34 30 40 38 50 24 18 28 26 22\n",
      " 19 25 45 21 43 56 60 54 55 48 20 57 58 47 62 51 65 49 53 61] \n",
      "GENDER :['female' 'male' 'trans'] \n",
      "SELF_EMPLOYED :['No' 'Yes'] \n",
      "FAMILY_HISTORY :['No' 'Yes'] \n",
      "TREATMENT :['Yes' 'No'] \n",
      "WORK_INTERFERE :['Often' 'Rarely' 'Never' 'Sometimes'] \n",
      "NO_EMPLOYEES :['6-25' '>1000' '26-100' '100-500' '1-5' '500-1000'] \n",
      "REMOTE_WORK :['No' 'Yes'] \n",
      "TECH_COMPANY :['Yes' 'No'] \n",
      "BENEFITS :['Yes' \"Don't know\" 'No'] \n",
      "CARE_OPTIONS :['Not sure' 'No' 'Yes'] \n",
      "WELLNESS_PROGRAM :['No' \"Don't know\" 'Yes'] \n",
      "SEEK_HELP :['Yes' \"Don't know\" 'No'] \n",
      "ANONYMITY :['Yes' \"Don't know\" 'No'] \n",
      "LEAVE :['Somewhat easy' \"Don't know\" 'Somewhat difficult' 'Very difficult'\n",
      " 'Very easy'] \n",
      "MENTAL_HEALTH_CONSEQUENCE :['No' 'Maybe' 'Yes'] \n",
      "PHYS_HEALTH_CONSEQUENCE :['No' 'Yes' 'Maybe'] \n",
      "COWORKERS :['Some of them' 'No' 'Yes'] \n",
      "SUPERVISOR :['Yes' 'No' 'Some of them'] \n",
      "MENTAL_HEALTH_INTERVIEW :['No' 'Yes' 'Maybe'] \n",
      "PHYS_HEALTH_INTERVIEW :['Maybe' 'No' 'Yes'] \n",
      "MENTAL_VS_PHYSICAL :['Yes' \"Don't know\" 'No'] \n",
      "OBS_CONSEQUENCE :['No' 'Yes'] \n"
     ]
    }
   ],
   "source": [
    "list_col=['Age', 'Gender', 'self_employed', 'family_history', 'treatment',\n",
    "       'work_interfere', 'no_employees', 'remote_work', 'tech_company',\n",
    "       'benefits', 'care_options', 'wellness_program', 'seek_help',\n",
    "       'anonymity', 'leave', 'mental_health_consequence',\n",
    "       'phys_health_consequence', 'coworkers', 'supervisor',\n",
    "       'mental_health_interview', 'phys_health_interview',\n",
    "       'mental_vs_physical', 'obs_consequence']\n",
    "\n",
    "for col in list_col: \n",
    "    print('{} :{} ' . format(col.upper(),data[col].unique()))"
   ]
  },
  {
   "cell_type": "code",
   "execution_count": 53,
   "id": "fcda3464",
   "metadata": {},
   "outputs": [],
   "source": [
    "from sklearn.preprocessing import LabelEncoder\n",
    "le = LabelEncoder()\n",
    "dfencode = data.copy() ## we can seperate orginal format of variables by using copy()"
   ]
  },
  {
   "cell_type": "code",
   "execution_count": 54,
   "id": "44915bb3",
   "metadata": {},
   "outputs": [],
   "source": [
    "# Label Encoding the categorical variables\n",
    "\n",
    "object_cols = ['Gender', 'Country', 'self_employed', 'family_history', 'treatment',\n",
    "       'work_interfere', 'no_employees', 'remote_work', 'tech_company',\n",
    "       'benefits', 'care_options', 'wellness_program', 'seek_help',\n",
    "       'anonymity', 'leave', 'mental_health_consequence',\n",
    "       'phys_health_consequence', 'coworkers', 'supervisor',\n",
    "       'mental_health_interview', 'phys_health_interview',\n",
    "       'mental_vs_physical', 'obs_consequence']\n",
    "for col in object_cols:\n",
    "    le.fit(dfencode[col])\n",
    "    dfencode[col] = le.transform(dfencode[col])"
   ]
  },
  {
   "cell_type": "code",
   "execution_count": 55,
   "id": "05343de1",
   "metadata": {},
   "outputs": [
    {
     "data": {
      "text/html": [
       "<div>\n",
       "<style scoped>\n",
       "    .dataframe tbody tr th:only-of-type {\n",
       "        vertical-align: middle;\n",
       "    }\n",
       "\n",
       "    .dataframe tbody tr th {\n",
       "        vertical-align: top;\n",
       "    }\n",
       "\n",
       "    .dataframe thead th {\n",
       "        text-align: right;\n",
       "    }\n",
       "</style>\n",
       "<table border=\"1\" class=\"dataframe\">\n",
       "  <thead>\n",
       "    <tr style=\"text-align: right;\">\n",
       "      <th></th>\n",
       "      <th>Age</th>\n",
       "      <th>Gender</th>\n",
       "      <th>Country</th>\n",
       "      <th>self_employed</th>\n",
       "      <th>family_history</th>\n",
       "      <th>treatment</th>\n",
       "      <th>work_interfere</th>\n",
       "      <th>no_employees</th>\n",
       "      <th>remote_work</th>\n",
       "      <th>tech_company</th>\n",
       "      <th>...</th>\n",
       "      <th>anonymity</th>\n",
       "      <th>leave</th>\n",
       "      <th>mental_health_consequence</th>\n",
       "      <th>phys_health_consequence</th>\n",
       "      <th>coworkers</th>\n",
       "      <th>supervisor</th>\n",
       "      <th>mental_health_interview</th>\n",
       "      <th>phys_health_interview</th>\n",
       "      <th>mental_vs_physical</th>\n",
       "      <th>obs_consequence</th>\n",
       "    </tr>\n",
       "  </thead>\n",
       "  <tbody>\n",
       "    <tr>\n",
       "      <th>0</th>\n",
       "      <td>37</td>\n",
       "      <td>0</td>\n",
       "      <td>44</td>\n",
       "      <td>0</td>\n",
       "      <td>0</td>\n",
       "      <td>1</td>\n",
       "      <td>1</td>\n",
       "      <td>4</td>\n",
       "      <td>0</td>\n",
       "      <td>1</td>\n",
       "      <td>...</td>\n",
       "      <td>2</td>\n",
       "      <td>2</td>\n",
       "      <td>1</td>\n",
       "      <td>1</td>\n",
       "      <td>1</td>\n",
       "      <td>2</td>\n",
       "      <td>1</td>\n",
       "      <td>0</td>\n",
       "      <td>2</td>\n",
       "      <td>0</td>\n",
       "    </tr>\n",
       "    <tr>\n",
       "      <th>1</th>\n",
       "      <td>44</td>\n",
       "      <td>1</td>\n",
       "      <td>44</td>\n",
       "      <td>0</td>\n",
       "      <td>0</td>\n",
       "      <td>0</td>\n",
       "      <td>2</td>\n",
       "      <td>5</td>\n",
       "      <td>0</td>\n",
       "      <td>0</td>\n",
       "      <td>...</td>\n",
       "      <td>0</td>\n",
       "      <td>0</td>\n",
       "      <td>0</td>\n",
       "      <td>1</td>\n",
       "      <td>0</td>\n",
       "      <td>0</td>\n",
       "      <td>1</td>\n",
       "      <td>1</td>\n",
       "      <td>0</td>\n",
       "      <td>0</td>\n",
       "    </tr>\n",
       "    <tr>\n",
       "      <th>2</th>\n",
       "      <td>32</td>\n",
       "      <td>1</td>\n",
       "      <td>6</td>\n",
       "      <td>0</td>\n",
       "      <td>0</td>\n",
       "      <td>0</td>\n",
       "      <td>2</td>\n",
       "      <td>4</td>\n",
       "      <td>0</td>\n",
       "      <td>1</td>\n",
       "      <td>...</td>\n",
       "      <td>0</td>\n",
       "      <td>1</td>\n",
       "      <td>1</td>\n",
       "      <td>1</td>\n",
       "      <td>2</td>\n",
       "      <td>2</td>\n",
       "      <td>2</td>\n",
       "      <td>2</td>\n",
       "      <td>1</td>\n",
       "      <td>0</td>\n",
       "    </tr>\n",
       "    <tr>\n",
       "      <th>3</th>\n",
       "      <td>31</td>\n",
       "      <td>1</td>\n",
       "      <td>43</td>\n",
       "      <td>0</td>\n",
       "      <td>1</td>\n",
       "      <td>1</td>\n",
       "      <td>1</td>\n",
       "      <td>2</td>\n",
       "      <td>0</td>\n",
       "      <td>1</td>\n",
       "      <td>...</td>\n",
       "      <td>1</td>\n",
       "      <td>1</td>\n",
       "      <td>2</td>\n",
       "      <td>2</td>\n",
       "      <td>1</td>\n",
       "      <td>0</td>\n",
       "      <td>0</td>\n",
       "      <td>0</td>\n",
       "      <td>1</td>\n",
       "      <td>1</td>\n",
       "    </tr>\n",
       "    <tr>\n",
       "      <th>4</th>\n",
       "      <td>31</td>\n",
       "      <td>1</td>\n",
       "      <td>44</td>\n",
       "      <td>0</td>\n",
       "      <td>0</td>\n",
       "      <td>0</td>\n",
       "      <td>0</td>\n",
       "      <td>1</td>\n",
       "      <td>1</td>\n",
       "      <td>1</td>\n",
       "      <td>...</td>\n",
       "      <td>0</td>\n",
       "      <td>0</td>\n",
       "      <td>1</td>\n",
       "      <td>1</td>\n",
       "      <td>1</td>\n",
       "      <td>2</td>\n",
       "      <td>2</td>\n",
       "      <td>2</td>\n",
       "      <td>0</td>\n",
       "      <td>0</td>\n",
       "    </tr>\n",
       "  </tbody>\n",
       "</table>\n",
       "<p>5 rows × 24 columns</p>\n",
       "</div>"
      ],
      "text/plain": [
       "   Age  Gender  Country  self_employed  family_history  treatment  \\\n",
       "0   37       0       44              0               0          1   \n",
       "1   44       1       44              0               0          0   \n",
       "2   32       1        6              0               0          0   \n",
       "3   31       1       43              0               1          1   \n",
       "4   31       1       44              0               0          0   \n",
       "\n",
       "   work_interfere  no_employees  remote_work  tech_company  ...  anonymity  \\\n",
       "0               1             4            0             1  ...          2   \n",
       "1               2             5            0             0  ...          0   \n",
       "2               2             4            0             1  ...          0   \n",
       "3               1             2            0             1  ...          1   \n",
       "4               0             1            1             1  ...          0   \n",
       "\n",
       "   leave  mental_health_consequence  phys_health_consequence  coworkers  \\\n",
       "0      2                          1                        1          1   \n",
       "1      0                          0                        1          0   \n",
       "2      1                          1                        1          2   \n",
       "3      1                          2                        2          1   \n",
       "4      0                          1                        1          1   \n",
       "\n",
       "   supervisor  mental_health_interview  phys_health_interview  \\\n",
       "0           2                        1                      0   \n",
       "1           0                        1                      1   \n",
       "2           2                        2                      2   \n",
       "3           0                        0                      0   \n",
       "4           2                        2                      2   \n",
       "\n",
       "   mental_vs_physical  obs_consequence  \n",
       "0                   2                0  \n",
       "1                   0                0  \n",
       "2                   1                0  \n",
       "3                   1                1  \n",
       "4                   0                0  \n",
       "\n",
       "[5 rows x 24 columns]"
      ]
     },
     "execution_count": 55,
     "metadata": {},
     "output_type": "execute_result"
    }
   ],
   "source": [
    "dfencode.head()"
   ]
  },
  {
   "cell_type": "markdown",
   "id": "67c8f2ba",
   "metadata": {},
   "source": [
    "###### Spilitting Dataset"
   ]
  },
  {
   "cell_type": "code",
   "execution_count": 56,
   "id": "e9af4da6",
   "metadata": {},
   "outputs": [],
   "source": [
    "mode_onehot_pipe = Pipeline([\n",
    "    ('encoder', SimpleImputer(strategy = 'most_frequent')),\n",
    "    ('one hot encoder', OneHotEncoder(handle_unknown = 'ignore'))])\n",
    "\n",
    "transformer = ColumnTransformer([\n",
    "    ('one hot', OneHotEncoder(handle_unknown = 'ignore'), ['Gender', 'Employee_Numbers',\n",
    "                                                           'Remote_Work', 'Tech_Company', 'Benefits', 'Care_Options',\n",
    "                                                           'Wellness_Program', 'Seek_Help', 'Anonymity',\n",
    "                                                           'Medical_Leave', 'Mental_Health_Consequence',\n",
    "                                                           'Physical_Health_Consequence', 'Coworkers', 'Supervisor',\n",
    "                                                           'Mental_Health_Interview', 'Physical_Health_Interview',\n",
    "                                                           'Mental_VS_Physical', 'Observed_Consequence']),\n",
    "    ('mode_onehot_pipe', mode_onehot_pipe, ['Self_Employed', 'Work_Interfere']),\n",
    "    ('iterative', IterativeImputer(max_iter = 10, random_state = 0), ['Age'])])"
   ]
  },
  {
   "cell_type": "code",
   "execution_count": 57,
   "id": "fe1763e7",
   "metadata": {},
   "outputs": [
    {
     "data": {
      "text/plain": [
       "Yes    50.48\n",
       "No     49.52\n",
       "Name: treatment, dtype: float64"
      ]
     },
     "execution_count": 57,
     "metadata": {},
     "output_type": "execute_result"
    }
   ],
   "source": [
    "data['treatment'].value_counts()/data.shape[0]*100"
   ]
  },
  {
   "cell_type": "code",
   "execution_count": 58,
   "id": "4ccfd268",
   "metadata": {},
   "outputs": [],
   "source": [
    "data['treatment'] = np.where(data['treatment'] == 'Yes', 1, 0)"
   ]
  },
  {
   "cell_type": "code",
   "execution_count": 59,
   "id": "dceaaec2",
   "metadata": {},
   "outputs": [],
   "source": [
    "# define X and y\n",
    "feature_columns = ['Gender','wellness_program','seek_help','anonymity','leave','obs_consequence','mental_health_interview','family_history','benefits','care_options','work_interfere']\n",
    "X = dfencode[feature_columns]\n",
    "y = dfencode['treatment']\n",
    "\n",
    "# split X and y into training and testing sets\n",
    "from sklearn.model_selection import train_test_split\n",
    "X_train, X_test, y_train, y_test = train_test_split(X,y,\n",
    "                                                   stratify = y,\n",
    "                                                    test_size = 0.3,\n",
    "                                                   random_state = 99)"
   ]
  },
  {
   "cell_type": "code",
   "execution_count": 60,
   "id": "e5e1c2c7",
   "metadata": {},
   "outputs": [
    {
     "data": {
      "text/plain": [
       "<AxesSubplot:>"
      ]
     },
     "execution_count": 60,
     "metadata": {},
     "output_type": "execute_result"
    },
    {
     "data": {
      "image/png": "[encoded data removed]",
      "text/plain": [
       "<Figure size 432x288 with 2 Axes>"
      ]
     },
     "metadata": {
      "needs_background": "light"
     },
     "output_type": "display_data"
    }
   ],
   "source": [
    "sns.heatmap(X.corr())"
   ]
  },
  {
   "cell_type": "code",
   "execution_count": 61,
   "id": "56f742e6",
   "metadata": {},
   "outputs": [
    {
     "data": {
      "text/plain": [
       "1076    1\n",
       "822     0\n",
       "66      1\n",
       "1248    1\n",
       "619     1\n",
       "       ..\n",
       "142     0\n",
       "882     0\n",
       "288     1\n",
       "103     1\n",
       "92      0\n",
       "Name: treatment, Length: 875, dtype: int32"
      ]
     },
     "execution_count": 61,
     "metadata": {},
     "output_type": "execute_result"
    }
   ],
   "source": [
    "y_train"
   ]
  },
  {
   "cell_type": "code",
   "execution_count": 62,
   "id": "3979281c",
   "metadata": {},
   "outputs": [
    {
     "data": {
      "text/plain": [
       "257     0\n",
       "1188    0\n",
       "1186    0\n",
       "1000    1\n",
       "79      0\n",
       "       ..\n",
       "1039    0\n",
       "46      0\n",
       "941     1\n",
       "216     1\n",
       "106     1\n",
       "Name: treatment, Length: 375, dtype: int32"
      ]
     },
     "execution_count": 62,
     "metadata": {},
     "output_type": "execute_result"
    }
   ],
   "source": [
    "y_test"
   ]
  },
  {
   "cell_type": "markdown",
   "id": "6a490f8d",
   "metadata": {},
   "source": [
    "### Model"
   ]
  },
  {
   "cell_type": "code",
   "execution_count": 63,
   "id": "f2a65c86",
   "metadata": {},
   "outputs": [],
   "source": [
    "def model_pred(model, name='Default'):\n",
    "    model.fit(X_train, y_train)\n",
    "    preds = model.predict(X_test)\n",
    "    print('---', name, '---', '\\n',\n",
    "          confusion_matrix(y_test, preds), '\\n',\n",
    "          'Accuracy:', round(accuracy_score(y_test, preds), 5), '\\n')"
   ]
  },
  {
   "cell_type": "code",
   "execution_count": 64,
   "id": "573e359f",
   "metadata": {},
   "outputs": [
    {
     "name": "stdout",
     "output_type": "stream",
     "text": [
      "--- Logistic Regression --- \n",
      " [[140  46]\n",
      " [ 53 136]] \n",
      " Accuracy: 0.736 \n",
      "\n"
     ]
    }
   ],
   "source": [
    "# Logistic Regression\n",
    "lg = LogisticRegression(random_state=0, solver='lbfgs', multi_class='multinomial')\n",
    "model_pred(lg, 'Logistic Regression')"
   ]
  },
  {
   "cell_type": "code",
   "execution_count": 65,
   "id": "18383333",
   "metadata": {},
   "outputs": [
    {
     "data": {
      "text/plain": [
       "Text(33.0, 0.5, 'Actual')"
      ]
     },
     "execution_count": 65,
     "metadata": {},
     "output_type": "execute_result"
    },
    {
     "data": {
      "image/png": "[encoded data removed]",
      "text/plain": [
       "<Figure size 432x288 with 2 Axes>"
      ]
     },
     "metadata": {
      "needs_background": "light"
     },
     "output_type": "display_data"
    }
   ],
   "source": [
    "gbc = LogisticRegression()\n",
    "gbc.fit(X_train,y_train)\n",
    "pred = gbc.predict(X_test)\n",
    "cf_matrix = confusion_matrix(y_test, pred)\n",
    "sns.heatmap(cf_matrix/np.sum(cf_matrix), annot=True, \n",
    "            fmt='.2%', cmap='Purples')\n",
    "plt.title('Confusion Matrix ', fontweight='bold', fontsize=16)\n",
    "plt.xlabel('Predicted', fontweight='bold', fontsize=12)\n",
    "plt.ylabel('Actual', fontweight='bold', fontsize=12)"
   ]
  },
  {
   "cell_type": "code",
   "execution_count": 66,
   "id": "bb1ccf84",
   "metadata": {
    "scrolled": true
   },
   "outputs": [
    {
     "data": {
      "image/png": "[encoded data removed]",
      "text/plain": [
       "<Figure size 576x576 with 1 Axes>"
      ]
     },
     "metadata": {
      "needs_background": "light"
     },
     "output_type": "display_data"
    },
    {
     "data": {
      "text/plain": [
       "(array([0.        , 0.24193548, 1.        ]),\n",
       " array([0.        , 0.71957672, 1.        ]),\n",
       " array([2, 1, 0]))"
      ]
     },
     "execution_count": 66,
     "metadata": {},
     "output_type": "execute_result"
    }
   ],
   "source": [
    "fpr, tpr, thresholds = metrics.roc_curve(y_test, pred)\n",
    "plt.figure(figsize=(8,8))\n",
    "roc_auc = metrics.auc(fpr, tpr)\n",
    "plt.plot(fpr, tpr, color='darkorange', label='ROC curve (area = %0.2f)' % roc_auc)\n",
    "plt.plot([0, 1], [0, 1], color='navy', linestyle='--')\n",
    "plt.xlim([0.0, 1.0])\n",
    "plt.ylim([0.0, 1.0])\n",
    "plt.rcParams['font.size'] = 12\n",
    "plt.title('ROC Curve', fontweight = 'bold', fontsize=16)\n",
    "plt.xlabel('False Positive Rate (1 - Specificity)', fontweight = 'bold', fontsize=14)\n",
    "plt.ylabel('True Positive Rate (Sensitivity)', fontweight = 'bold', fontsize=14)\n",
    "plt.legend(loc=\"lower right\")\n",
    "plt.show()\n",
    "metrics.roc_curve(y_test, pred)"
   ]
  },
  {
   "cell_type": "code",
   "execution_count": 67,
   "id": "317b5b3d",
   "metadata": {},
   "outputs": [
    {
     "name": "stdout",
     "output_type": "stream",
     "text": [
      "--- Random Forest Classifier --- \n",
      " [[134  52]\n",
      " [ 54 135]] \n",
      " Accuracy: 0.71733 \n",
      "\n"
     ]
    }
   ],
   "source": [
    "forest = RandomForestClassifier(criterion='gini',\n",
    "                                 n_estimators=5,\n",
    "                                 random_state=1,\n",
    "                                 n_jobs=2)\n",
    "model_pred(forest, 'Random Forest Classifier')"
   ]
  },
  {
   "cell_type": "markdown",
   "id": "ec1bca31",
   "metadata": {},
   "source": [
    "### Thank You!"
   ]
  }
 ],
 "metadata": {
  "kernelspec": {
   "display_name": "Python 3.9.12 ('base')",
   "language": "python",
   "name": "python3"
  },
  "language_info": {
   "codemirror_mode": {
    "name": "ipython",
    "version": 3
   },
   "file_extension": ".py",
   "mimetype": "text/x-python",
   "name": "python",
   "nbconvert_exporter": "python",
   "pygments_lexer": "ipython3",
   "version": "3.9.12"
  },
  "vscode": {
   "interpreter": {
    "hash": "dc07d24e2f18896857f0b2a651fe84ba40ce7b297e58d8804a308c8039f752a6"
   }
  }
 },
 "nbformat": 4,
 "nbformat_minor": 5
}
